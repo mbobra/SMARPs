{
 "cells": [
  {
   "cell_type": "markdown",
   "metadata": {},
   "source": [
    "# Making SHARP and SMARP movies"
   ]
  },
  {
   "cell_type": "markdown",
   "metadata": {},
   "source": [
    "In this notebook, we will make a movie of the SHARP and SMARP regions as they evolve over time and show how these affect the value of a spaceweather keyword."
   ]
  },
  {
   "cell_type": "code",
   "execution_count": 1,
   "metadata": {},
   "outputs": [],
   "source": [
    "import json, urllib, numpy as np, matplotlib, matplotlib.pylab as plt, requests, matplotlib.ticker as mtick\n",
    "import matplotlib.animation as manimation\n",
    "import drms\n",
    "import sunpy.map\n",
    "import astropy.units as u\n",
    "from datetime import datetime as dt_obj\n",
    "from matplotlib.dates import *\n",
    "from astropy.io import fits\n",
    "import matplotlib.gridspec as gridspec\n",
    "from mpl_toolkits.axes_grid1 import make_axes_locatable, axes_size\n",
    "import matplotlib.animation as manimation\n",
    "import matplotlib.colors as colors\n",
    "import pandas as pd\n",
    "import seaborn as sns\n",
    "%matplotlib inline\n",
    "%config InlineBackend.figure_format='retina'"
   ]
  },
  {
   "cell_type": "markdown",
   "metadata": {},
   "source": [
    "We query the JSOC database, where all the SDO data are stored, using the SunPy affiliated package [drms](https://docs.sunpy.org/projects/drms/en/latest/) to retrieve both keywords and the location of the SHARP image files. The [astropy](http://docs.astropy.org/en/stable/io/fits/index.html) library's  `fits.open()` call downloads the data. This method is a bit faster than using SunPy map, but loses all the map functionality. See Table A.7 in [Bobra et al., 2014](http://link.springer.com/article/10.1007%2Fs11207-014-0529-3) for segment name information). <br>\n",
    "\n",
    "The first step in querying for SDO HMI and AIA data is to establish a connection to JSOC. This can be done with the `Client()` class."
   ]
  },
  {
   "cell_type": "code",
   "execution_count": 2,
   "metadata": {},
   "outputs": [
    {
     "name": "stdout",
     "output_type": "stream",
     "text": [
      "http://jsoc.stanford.edu/cgi-bin/ajax/checkAddress.sh?address=mbobra%2540stanford.edu&checkonly=1\n"
     ]
    }
   ],
   "source": [
    "from drms import jsoc\n",
    "email = 'mbobra@stanford.edu'\n",
    "c = drms.Client(debug=True, verbose=True, email=email)"
   ]
  },
  {
   "cell_type": "markdown",
   "metadata": {},
   "source": [
    "Then we query for the appropriate DRMS series for the keywords and segments of our choice:"
   ]
  },
  {
   "cell_type": "code",
   "execution_count": 3,
   "metadata": {},
   "outputs": [
    {
     "name": "stdout",
     "output_type": "stream",
     "text": [
      "http://jsoc.stanford.edu/cgi-bin/ajax/jsoc_info?op=rs_list&ds=hmi.sharp_cea_720s%5B211%5D%5B2010.10.09_00%3A00%3A00_TAI-2010.10.20_00%3A00_TAI%4096m%5D%5B%3F+%28QUALITY%3C65536%29+%3F%5D&key=NOAA_ARS%2CT_REC%2CUSFLUX%2CMEANGBZ%2CR_VALUE%2CERRVF%2CCMASK%2CCDELT1%2CCDELT2%2CRSUN_REF%2CRSUN_OBS&seg=bitmap%2Cmagnetogram%2Cconf_disambig\n",
      "http://jsoc.stanford.edu/cgi-bin/ajax/jsoc_info?op=series_struct&ds=hmi.sharp_cea_720s\n"
     ]
    }
   ],
   "source": [
    "keys_hmi, segments_hmi = c.query('hmi.sharp_cea_720s[211][2010.10.09_00:00:00_TAI-2010.10.20_00:00_TAI@96m][? (QUALITY<65536) ?]', key='NOAA_ARS, T_REC, USFLUX, MEANGBZ, R_VALUE, ERRVF, CMASK, CDELT1, CDELT2, RSUN_REF, RSUN_OBS', seg='bitmap, magnetogram, conf_disambig')"
   ]
  },
  {
   "cell_type": "code",
   "execution_count": 4,
   "metadata": {},
   "outputs": [
    {
     "name": "stdout",
     "output_type": "stream",
     "text": [
      "http://jsoc.stanford.edu/cgi-bin/ajax/jsoc_info?op=rs_list&ds=su_mbobra.sharp_loskeys_720s%5B211%5D%5B2010.10.09_00%3A00%3A00_TAI-2010.10.20_00%3A00_TAI%4096m%5D%5B%3F+%28QUALITY%3C65536%29+%3F%5D&key=NOAA_ARS%2CT_REC%2CUSFLUX%2CMEANGBZ%2CR_VALUE%2CERRVF%2CCMASK%2CCDELT1%2CCDELT2%2CRSUN_REF%2CRSUN_OBS&seg=bitmap%2CBr\n",
      "http://jsoc.stanford.edu/cgi-bin/ajax/jsoc_info?op=series_struct&ds=su_mbobra.sharp_loskeys_720s\n"
     ]
    }
   ],
   "source": [
    "keys_loshmi, segments_loshmi = c.query('su_mbobra.sharp_loskeys_720s[211][2010.10.09_00:00:00_TAI-2010.10.20_00:00_TAI@96m][? (QUALITY<65536) ?]', key='NOAA_ARS, T_REC, USFLUX, MEANGBZ, R_VALUE, ERRVF, CMASK, CDELT1, CDELT2, RSUN_REF, RSUN_OBS', seg='bitmap, Br')"
   ]
  },
  {
   "cell_type": "code",
   "execution_count": 5,
   "metadata": {},
   "outputs": [
    {
     "name": "stdout",
     "output_type": "stream",
     "text": [
      "http://jsoc.stanford.edu/cgi-bin/ajax/jsoc_info?op=rs_list&ds=su_mbobra.smarp_cea_96m%5B13643%5D%5B2010.10.09_00%3A00%3A00_TAI-2010.10.20_00%3A00_TAI%5D%5B%3F+%28QUALITY%3C262144%29+%3F%5D&key=NOAA_ARS%2CCDELT1%2CCDELT2%2CT_REC%2CUSFLUX%2CMEANGBZ%2CR_VALUE%2CCMASK&seg=magnetogram%2Cbitmap\n",
      "http://jsoc.stanford.edu/cgi-bin/ajax/jsoc_info?op=series_struct&ds=su_mbobra.smarp_cea_96m\n"
     ]
    }
   ],
   "source": [
    "keys_mdi, segments_mdi = c.query('su_mbobra.smarp_cea_96m[13643][2010.10.09_00:00:00_TAI-2010.10.20_00:00_TAI][? (QUALITY<262144) ?]', key='NOAA_ARS, CDELT1, CDELT2, T_REC, USFLUX, MEANGBZ, R_VALUE CMASK', seg='magnetogram,bitmap')"
   ]
  },
  {
   "cell_type": "markdown",
   "metadata": {},
   "source": [
    "To convert the keyword `T_REC` into a datetime object, we can use the function below."
   ]
  },
  {
   "cell_type": "code",
   "execution_count": 6,
   "metadata": {},
   "outputs": [],
   "source": [
    "def parse_tai_string(tstr,datetime=True):\n",
    "    year   = int(tstr[:4])\n",
    "    month  = int(tstr[5:7])\n",
    "    day    = int(tstr[8:10])\n",
    "    hour   = int(tstr[11:13])\n",
    "    minute = int(tstr[14:16])\n",
    "    if datetime: return dt_obj(year,month,day,hour,minute)\n",
    "    else: return year,month,day,hour,minute"
   ]
  },
  {
   "cell_type": "code",
   "execution_count": 7,
   "metadata": {},
   "outputs": [],
   "source": [
    "t_rec_hmi = np.array([parse_tai_string(keys_hmi.T_REC[i],datetime=True) for i in range(keys_hmi.T_REC.size)])\n",
    "t_rec_mdi = np.array([parse_tai_string(keys_mdi.T_REC[i],datetime=True) for i in range(keys_mdi.T_REC.size)])"
   ]
  },
  {
   "cell_type": "markdown",
   "metadata": {},
   "source": [
    "Here are the `T_REC`s common to both the SHARP and SMARP data for this active region:"
   ]
  },
  {
   "cell_type": "code",
   "execution_count": 8,
   "metadata": {},
   "outputs": [],
   "source": [
    "common_times = set(t_rec_mdi).intersection(t_rec_hmi)"
   ]
  },
  {
   "cell_type": "markdown",
   "metadata": {},
   "source": [
    "This makes a movie with seven panels. The top row shows the MDI line of sight magnetic field data, the HMI line of sight magnetic field data, and the SHARP conf_disambig segment. The middle row shows the pixels that contribute to each keyword calculation. The bottom row shows a plot of the keyword as a function of time."
   ]
  },
  {
   "cell_type": "code",
   "execution_count": 9,
   "metadata": {},
   "outputs": [],
   "source": [
    "%%capture\n",
    "palette = sns.color_palette()\n",
    "\n",
    "for i in range(len(common_times)):      \n",
    "    # Get the data\n",
    "    url = 'http://jsoc.stanford.edu' + segments_hmi.bitmap[i]\n",
    "    photosphere_image_hmi = fits.open(url, uint=True)\n",
    "    url = 'http://jsoc.stanford.edu' + segments_hmi.conf_disambig[i]\n",
    "    conf_image_hmi = fits.open(url, uint=True)\n",
    "    url = 'http://jsoc.stanford.edu' + segments_mdi.bitmap[i]\n",
    "    photosphere_image_mdi = fits.open(url, uint=True)\n",
    "    url = 'http://jsoc.stanford.edu' + segments_hmi.magnetogram[i]\n",
    "    magnetogram_hmi = fits.open(url)\n",
    "    url = 'http://jsoc.stanford.edu' + segments_mdi.magnetogram[i]\n",
    "    magnetogram_mdi = fits.open(url)\n",
    "    \n",
    "    # Determine shape of array\n",
    "    nx_hmi, ny_hmi = photosphere_image_hmi[0].data.shape\n",
    "    nx_mdi, ny_mdi = photosphere_image_mdi[0].data.shape\n",
    "    mdi_width = nx_mdi * keys_mdi.CDELT1[i]\n",
    "    mdi_height = ny_mdi * keys_mdi.CDELT2[i]\n",
    "    hmi_width = nx_hmi * keys_hmi.CDELT1[i]\n",
    "    hmi_height = ny_hmi * keys_hmi.CDELT2[i]\n",
    "    hmi_aspect_ratio = hmi_width/hmi_height\n",
    "    mdi_aspect_ratio = mdi_width/mdi_height\n",
    "    #print(mdi_width,mdi_height,hmi_width,hmi_height)\n",
    "    \n",
    "    # Cast bitmaps into correct type\n",
    "    hmi_bitmap = photosphere_image_hmi[0].data.astype(np.dtype('int8')) \n",
    "    hmi_conf_disambig = conf_image_hmi[1].data.astype(np.dtype('int8')) \n",
    "    mdi_bitmap = photosphere_image_mdi[0].data.astype(np.dtype('int8'))\n",
    "\n",
    "    #Create SHARP Line of Sight bitmap (hmi_bitmap) and Vector bitmap (outdata)\n",
    "    hmi_bitmap[hmi_bitmap <= 30] = 0\n",
    "    hmi_bitmap[hmi_bitmap > 30] = 1\n",
    "    hmi_conf_disambig[hmi_conf_disambig <=60 ] = 0\n",
    "    hmi_conf_disambig[hmi_conf_disambig > 60] = 1\n",
    "    outdata = hmi_conf_disambig * hmi_bitmap\n",
    "\n",
    "    # Create SMARP bitmap\n",
    "    mdi_bitmap[mdi_bitmap <= 36] = 0\n",
    "    mdi_bitmap[mdi_bitmap > 36] = 1\n",
    "    \n",
    "    # Create the figure\n",
    "    fig = plt.figure(tight_layout=True, figsize=(16,9))\n",
    "    fig.patch.set_facecolor('#f5f4f0')\n",
    "    fig.suptitle('NOAA Active Region '+str(keys_hmi.NOAA_ARS[i])+' at '+str(keys_hmi.T_REC[i]), fontsize=12)\n",
    "    gs = gridspec.GridSpec(ncols=3, nrows=4)\n",
    "                           #height_ratios=[mdi_height, hmi_height, hmi_height], width_ratios=[mdi_width, hmi_width, hmi_width])\n",
    "\n",
    "    ax0 = fig.add_subplot(gs[0, 0])\n",
    "    ax0.get_xaxis().set_ticks([])\n",
    "    ax0.get_yaxis().set_ticks([])\n",
    "    ax0.set_title('SMARP Line of Sight magnetic field', fontsize=10)\n",
    "    plt.imshow(magnetogram_mdi[1].data, origin='lower', cmap='Greys', vmin=-800, vmax=800, interpolation='nearest')\n",
    "    \n",
    "    ax1 = fig.add_subplot(gs[0, 1])\n",
    "    ax1.get_xaxis().set_ticks([])\n",
    "    ax1.get_yaxis().set_ticks([])\n",
    "    ax1.set_title('SHARP Line of Sight magnetic field', fontsize=10)\n",
    "    plt.imshow(magnetogram_hmi[1].data, origin='lower', cmap='Greys', vmin=-800, vmax=800, interpolation='nearest')\n",
    "\n",
    "    ax2 = fig.add_subplot(gs[0, 2])\n",
    "    ax2.get_xaxis().set_ticks([])\n",
    "    ax2.get_yaxis().set_ticks([])\n",
    "    ax2.set_title('SHARP conf_disambig', fontsize=10)\n",
    "    plt.imshow(conf_image_hmi[1].data.astype(np.dtype('int8')), origin='lower', cmap='tab20c', vmin=-128, vmax=90, norm=colors.Normalize(vmin=0, vmax=2), interpolation='nearest')\n",
    "    \n",
    "    ax3 = fig.add_subplot(gs[1, 0])\n",
    "    ax3.get_xaxis().set_ticks([])\n",
    "    ax3.get_yaxis().set_ticks([])\n",
    "    ax3.set_title('Pixels in SMARP keywords', fontsize=10)\n",
    "    plt.imshow(mdi_bitmap, origin='lower', cmap=colors.ListedColormap(['cornflowerblue', 'gold']), norm=colors.Normalize(vmin=0, vmax=1), interpolation='nearest')\n",
    "    \n",
    "    ax4 = fig.add_subplot(gs[1, 1])\n",
    "    ax4.get_xaxis().set_ticks([])\n",
    "    ax4.get_yaxis().set_ticks([])\n",
    "    ax4.set_title('Pixels in SHARP Line of Sight keywords', fontsize=10)\n",
    "    plt.imshow(hmi_bitmap, origin='lower', cmap=colors.ListedColormap(['cornflowerblue', 'gold']), norm=colors.Normalize(vmin=0, vmax=1), interpolation='nearest')\n",
    "\n",
    "    ax5 = fig.add_subplot(gs[1, 2])\n",
    "    ax5.get_xaxis().set_ticks([])\n",
    "    ax5.get_yaxis().set_ticks([])\n",
    "    ax5.set_title('Pixels in SHARP Vector keywords', fontsize=10)\n",
    "    plt.imshow(outdata, origin='lower', cmap=colors.ListedColormap(['cornflowerblue', 'gold', 'orchid']), norm=colors.Normalize(vmin=0, vmax=2), interpolation='nearest')\n",
    "        \n",
    "    ax6 = fig.add_subplot(gs[2:, :])\n",
    "    marker_style1 = dict(linestyle='', markersize=6, fillstyle='full',color=palette[0], markeredgecolor=palette[0])\n",
    "    marker_style2 = dict(linestyle='', markersize=6, fillstyle='full',color=palette[1], markeredgecolor=palette[1])\n",
    "    marker_style3 = dict(linestyle='', markersize=6, fillstyle='full',color=palette[2], markeredgecolor=palette[2])\n",
    "    ax6.yaxis.set_major_formatter(mtick.FormatStrFormatter('%.1e'))\n",
    "    ax6.plot(t_rec_mdi[0:i+1], keys_mdi.USFLUX[0:i+1],'o',**marker_style1, label='SMARP')\n",
    "    ax6.plot(t_rec_hmi[0:i+1], keys_loshmi.USFLUX[0:i+1],'o',**marker_style2, label='SHARP Line-of-sight')\n",
    "    ax6.plot(t_rec_hmi[0:i+1], keys_hmi.USFLUX[0:i+1],'o',**marker_style3, label='SHARP Vector')\n",
    "    \n",
    "    plt.ylim([0, 2.2e22])\n",
    "    plt.xlim([t_rec_hmi[0], t_rec_hmi[-1]])\n",
    "    ax6.set_ylabel('Maxwells', fontsize=10)\n",
    "    ax6.legend(frameon=False, fontsize=10, loc='upper left')\n",
    "    locator = AutoDateLocator(minticks=3, maxticks=7)\n",
    "    formatter = ConciseDateFormatter(locator)\n",
    "    ax6.xaxis.set_major_locator(locator)\n",
    "    ax6.xaxis.set_major_formatter(formatter)\n",
    "    \n",
    "    fig.savefig('shmarp_'+str(i)+'.png',bbox_inches='tight', transparent=False, dpi=300)"
   ]
  }
 ],
 "metadata": {
  "anaconda-cloud": {},
  "kernelspec": {
   "display_name": "Python 3",
   "language": "python",
   "name": "python3"
  },
  "language_info": {
   "codemirror_mode": {
    "name": "ipython",
    "version": 3
   },
   "file_extension": ".py",
   "mimetype": "text/x-python",
   "name": "python",
   "nbconvert_exporter": "python",
   "pygments_lexer": "ipython3",
   "version": "3.9.2"
  }
 },
 "nbformat": 4,
 "nbformat_minor": 4
}
