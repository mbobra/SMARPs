{
 "cells": [
  {
   "cell_type": "markdown",
   "metadata": {},
   "source": [
    "# Figure 3\n",
    "\n",
    "Figure 3 plots the following keywords for 51 NOAA active regions observed during the HMI-MDI overlap period:\n",
    "* `USFLUXL`, the total unsigned flux (in Maxwells)\n",
    "* `R_VALUE`, the R parameter (as detailed in Schrijver+2007), which is a measure of the flux near the polarity inversion line, in Maxwells\n",
    "* `MEANGBL`, the mean value of the vertical field gradient in Gauss/Mm\n",
    "* `CMASKL`, the number of pixels that contribute to the calculation of a keyword"
   ]
  },
  {
   "cell_type": "code",
   "execution_count": 1,
   "metadata": {},
   "outputs": [],
   "source": [
    "import drms\n",
    "import pandas as pd\n",
    "import numpy as np\n",
    "import seaborn as sns\n",
    "from datetime import datetime as dt_obj\n",
    "import matplotlib.pyplot as plt\n",
    "from sunpy.net import Fido\n",
    "from sunpy.net import attrs as a\n",
    "from sunpy.io.special import srs\n",
    "from itertools import chain\n",
    "from scipy import stats\n",
    "from dateutil.relativedelta import *\n",
    "import math\n",
    "pd.set_option('max_rows', 500) #print df as large as 500 rows"
   ]
  },
  {
   "cell_type": "code",
   "execution_count": 2,
   "metadata": {},
   "outputs": [],
   "source": [
    "# define some constants\n",
    "radsindeg = np.pi/180.\n",
    "munaught  = 0.0000012566370614"
   ]
  },
  {
   "cell_type": "markdown",
   "metadata": {},
   "source": [
    "The first step in querying for the SMARP and SHARP data is to establish a connection to JSOC. This can be done with the Client() class. (Register to download data from JSOC [here](http://jsoc.stanford.edu/ajax/register_email.html))."
   ]
  },
  {
   "cell_type": "code",
   "execution_count": 3,
   "metadata": {},
   "outputs": [
    {
     "name": "stdout",
     "output_type": "stream",
     "text": [
      "http://jsoc.stanford.edu/cgi-bin/ajax/checkAddress.sh?address=mbobra%2540stanford.edu&checkonly=1\n"
     ]
    }
   ],
   "source": [
    "email='your@email.address' # Put in a registered e-mail address\n",
    "c = drms.Client(debug=True, verbose=True, email=email)"
   ]
  },
  {
   "cell_type": "markdown",
   "metadata": {},
   "source": [
    "### Find all the NOAA active regions that appear in both the SMARP and SHARP database"
   ]
  },
  {
   "cell_type": "markdown",
   "metadata": {},
   "source": [
    "The overlap period begins when HMI takes regular observations, on May 1, 2010. The overlap period ends on the last day of the mdi.mtarp series, on October 28, 2010. \n",
    "\n",
    "MDI continued to take some observations until April 11, 2011 -- and even turned back on from March 6-14, 2012 -- but gaps in the MDI data became more frequent after October 28, 2010. Therefore the SMARP series ends on October 28, 2010."
   ]
  },
  {
   "cell_type": "code",
   "execution_count": 4,
   "metadata": {},
   "outputs": [],
   "source": [
    "t_start = '2010.05.01_00:00:00_TAI'\n",
    "t_end = '2010.10.28_00:00:00_TAI'"
   ]
  },
  {
   "cell_type": "code",
   "execution_count": 5,
   "metadata": {},
   "outputs": [],
   "source": [
    "def parse_tai_string(tstr,datetime=True):\n",
    "    year   = int(tstr[:4])\n",
    "    month  = int(tstr[5:7])\n",
    "    day    = int(tstr[8:10])\n",
    "    hour   = int(tstr[11:13])\n",
    "    minute = int(tstr[14:16])\n",
    "    if datetime: return dt_obj(year,month,day,hour,minute)\n",
    "    else: return year,month,day,hour,minute"
   ]
  },
  {
   "cell_type": "code",
   "execution_count": 6,
   "metadata": {},
   "outputs": [],
   "source": [
    "delta_days = parse_tai_string(t_end) - parse_tai_string(t_start)"
   ]
  },
  {
   "cell_type": "code",
   "execution_count": 7,
   "metadata": {},
   "outputs": [
    {
     "name": "stdout",
     "output_type": "stream",
     "text": [
      "There are 180 in the overlap period.\n"
     ]
    }
   ],
   "source": [
    "print(\"There are\",delta_days.days,\"in the overlap period.\")"
   ]
  },
  {
   "cell_type": "markdown",
   "metadata": {},
   "source": [
    "Construct the queries to identify all the active regions during the overlap period that have a NOAA active region number (`NOAA_ARS <> \\'MISSING\\'`). Sample the data only once every two hours. This reduces the query time but does not miss any active regions (there are no HARPs or TARPs that live for shorter than two hours)."
   ]
  },
  {
   "cell_type": "code",
   "execution_count": 8,
   "metadata": {
    "scrolled": true
   },
   "outputs": [
    {
     "name": "stdout",
     "output_type": "stream",
     "text": [
      "http://jsoc.stanford.edu/cgi-bin/ajax/jsoc_info?op=rs_list&ds=hmi.sharp_cea_720s%5B%5D%5B2010.05.01_00%3A00%3A00_TAI%2F180d%402h%5D%5B%3F+%28NOAA_ARS+%3C%3E+%27MISSING%27%29+%3F%5D&key=NOAA_ARS%2CHARPNUM\n",
      "http://jsoc.stanford.edu/cgi-bin/ajax/jsoc_info?op=series_struct&ds=hmi.sharp_cea_720s\n",
      "http://jsoc.stanford.edu/cgi-bin/ajax/jsoc_info?op=rs_list&ds=mdi.smarp_cea_96m%5B%5D%5B2010.05.01_00%3A00%3A00_TAI%2F180d%402h%5D%5B%3F+%28NOAA_ARS+%3C%3E+%27MISSING%27%29+%3F%5D&key=NOAA_ARS%2CTARPNUM\n",
      "http://jsoc.stanford.edu/cgi-bin/ajax/jsoc_info?op=series_struct&ds=mdi.smarp_cea_96m\n"
     ]
    }
   ],
   "source": [
    "hmi_query_string = 'hmi.sharp_cea_720s[]['+t_start+'/180d@2h][? (NOAA_ARS <> \\'MISSING\\') ?]'\n",
    "khmi = c.query(hmi_query_string, key='NOAA_ARS,HARPNUM')\n",
    "\n",
    "mdi_query_string = 'mdi.smarp_cea_96m[]['+t_start+'/180d@2h][? (NOAA_ARS <> \\'MISSING\\') ?]'\n",
    "kmdi = c.query(mdi_query_string, key='NOAA_ARS,TARPNUM')"
   ]
  },
  {
   "cell_type": "markdown",
   "metadata": {},
   "source": [
    "Drop all rows that have a missing NOAA active region number"
   ]
  },
  {
   "cell_type": "code",
   "execution_count": 9,
   "metadata": {},
   "outputs": [],
   "source": [
    "khmi = khmi.drop(khmi.index[khmi['NOAA_ARS'] == 'MISSING']);\n",
    "kmdi = kmdi.drop(kmdi.index[kmdi['NOAA_ARS'] == 'MISSING']);"
   ]
  },
  {
   "cell_type": "markdown",
   "metadata": {},
   "source": [
    "Find all the NOAA active regions that appear in both HMI and MDI"
   ]
  },
  {
   "cell_type": "code",
   "execution_count": 10,
   "metadata": {},
   "outputs": [],
   "source": [
    "keys = pd.merge(khmi, kmdi, on='NOAA_ARS')"
   ]
  },
  {
   "cell_type": "code",
   "execution_count": 11,
   "metadata": {},
   "outputs": [],
   "source": [
    "keys = keys.drop_duplicates().reset_index(drop='True')"
   ]
  },
  {
   "cell_type": "code",
   "execution_count": 12,
   "metadata": {},
   "outputs": [
    {
     "name": "stdout",
     "output_type": "stream",
     "text": [
      "There are 51 NOAA active regions that appear in both the SHARP and SMARP database.\n"
     ]
    }
   ],
   "source": [
    "print(\"There are\",len(keys),\"NOAA active regions that appear in both the SHARP and SMARP database.\")"
   ]
  },
  {
   "cell_type": "markdown",
   "metadata": {},
   "source": [
    "Note that `HARPNUM` 155 and `TARPNUM` 13550 both encapsulate two NOAA active regions: NOAA AR 11093 and 11099. While NOAA uses continuum intensity image data to identify active regions, we use magnetic field data to identify active regions. Therefore we do not expect a 1:1 correspondence between NOAA AR number and TARP or HARP number. "
   ]
  },
  {
   "cell_type": "markdown",
   "metadata": {},
   "source": [
    "Now let's see how many active regions NOAA identified during the overlap period by querying the NOAA solar active region summary files using the SunPy Fido SRSClient."
   ]
  },
  {
   "cell_type": "code",
   "execution_count": 13,
   "metadata": {},
   "outputs": [],
   "source": [
    "results = Fido.search(a.Time(\"2010/5/1\", \"2010/10/28\"), a.Instrument.soon)"
   ]
  },
  {
   "cell_type": "code",
   "execution_count": 14,
   "metadata": {},
   "outputs": [
    {
     "data": {
      "application/vnd.jupyter.widget-view+json": {
       "model_id": "1d43dd34ecf444079ef65331561e9583",
       "version_major": 2,
       "version_minor": 0
      },
      "text/plain": [
       "Files Downloaded:   0%|          | 0/181 [00:00<?, ?file/s]"
      ]
     },
     "metadata": {},
     "output_type": "display_data"
    }
   ],
   "source": [
    "results = Fido.fetch(results);"
   ]
  },
  {
   "cell_type": "code",
   "execution_count": 15,
   "metadata": {},
   "outputs": [],
   "source": [
    "noaa_numbers = []\n",
    "for i in range (len(results)):\n",
    "    srs_table = srs.read_srs(results[i])\n",
    "    noaa_numbers.append(list(srs_table['Number']))"
   ]
  },
  {
   "cell_type": "code",
   "execution_count": 16,
   "metadata": {},
   "outputs": [],
   "source": [
    "noaa_numbers_list_unique = list(set(list(chain.from_iterable(noaa_numbers))))"
   ]
  },
  {
   "cell_type": "code",
   "execution_count": 17,
   "metadata": {},
   "outputs": [
    {
     "name": "stdout",
     "output_type": "stream",
     "text": [
      "There are 57 NOAA active regions during the MDI-HMI overlap period.\n"
     ]
    }
   ],
   "source": [
    "print(\"There are\",len(noaa_numbers_list_unique),\"NOAA active regions during the MDI-HMI overlap period.\")"
   ]
  },
  {
   "cell_type": "markdown",
   "metadata": {},
   "source": [
    "Identify all the NOAA active regions that do not appear in both the SMARP and SHARP database during the overlap period:"
   ]
  },
  {
   "cell_type": "code",
   "execution_count": 18,
   "metadata": {},
   "outputs": [
    {
     "name": "stdout",
     "output_type": "stream",
     "text": [
      "[11065, 11071, 11077, 11091, 11104, 11107]\n"
     ]
    }
   ],
   "source": [
    "# convert pandas series into list individual noaa ar numbers as strings\n",
    "noaa_strings_sharp_smarp = list(chain.from_iterable([(keys['NOAA_ARS'][i].split(',')) for i in range(len(keys))]))\n",
    "\n",
    "# convert list of individual noaa ar numbers from strings to ints\n",
    "noaa_ints_sharp_smarp = [int(x) for x in noaa_strings_sharp_smarp]\n",
    "\n",
    "# compare noaa ars in SRS catalog to noaa ars in sharp+smarp database\n",
    "out = [x for x in noaa_numbers_list_unique if x not in noaa_ints_sharp_smarp]\n",
    "print(out)"
   ]
  },
  {
   "cell_type": "markdown",
   "metadata": {},
   "source": [
    "There are 6 NOAA active regions that don't appear in both the SHARP and SMARP data. Let's look at these one by one. To do this, it is helpful to look at the metadata output from the queries above, the NOAA SRS data, [Solar Monitor](https://www.solarmonitor.org/), and the [HARP](http://jsoc.stanford.edu/data/hmi/HARPs_movies/definitive/) and [TARP](http://jsoc.stanford.edu/data/mdi/mdi-tarp/mdi-browse/) movies.\n",
    "1. **AR 11065** appears in the SHARP data but is not labelled in the SMARP data. It is, however, clearly TARPNUM 13389 in the SMARP data.\n",
    "2. **AR 11071** appears in the SHARP data but is not labelled in the SMARP data. It is, however, clearly TARPNUM 13414 in the SMARP data.\n",
    "3. **AR 11077** appears in both the SHARP and SMARP data, but in the SHARP data it is coupled with AR 11073 in HARPNUM 45. In the SMARP data, it is 11077 on its own. We rejected this from our list of NOAA ARs during the overlap period because we want only regions that have a 1:1 correspondence between NOAA ARs and [HARP/TARP]NUMs.\n",
    "4. **AR 11091** does not appear in either the SHARP or SMARP data. Based on the SRS reports, it looks like a very small region at the limb that barely rose above a Hydrogen-alpha plage region (basically really small with minimal magnetic signature).\n",
    "5. **AR 11104** appears in the SHARP data but does not appear in the SMARP data. It has an extremely small magnetic signature that likely requires the high resolution of the HMI data to pass the detection threshold.\n",
    "6. **AR 11107** appears in the SHARP data but is not labelled in the SMARP data. It is, however, clearly TARPNUM 13611 in the SMARP data.\n",
    "\n",
    "While the NOAA active region identification scheme is useful for making comparisons during the MDI-HMI overlap period, it does not identify all the magnetic activity on the Sun. "
   ]
  },
  {
   "cell_type": "markdown",
   "metadata": {},
   "source": [
    "### Plot all of the spaceweather keyword values for these common active regions"
   ]
  },
  {
   "cell_type": "markdown",
   "metadata": {},
   "source": [
    "Query all the spaceweather keyword metadata for the common NOAA active regions identified above. Select all records where:\n",
    "1. The same `T_REC` appears in both the SMARP and SHARP data,\n",
    "2. The HARP or TARP is within 70 degrees of central meridian, and\n",
    "3. The data are of good quality (`(QUALITY<262144)` for SMARP and `(QUALITY<65536)` for SHARP).\n",
    "\n",
    "Note that here we are querying the keyword-only series su_mbobra.sharp_loskeys_720s."
   ]
  },
  {
   "cell_type": "code",
   "execution_count": 19,
   "metadata": {},
   "outputs": [
    {
     "name": "stdout",
     "output_type": "stream",
     "text": [
      "Gathering data for HARPNUM 1 and TARPNUM 13395\n",
      "Working on active region 1 out of 51.\n",
      "http://jsoc.stanford.edu/cgi-bin/ajax/jsoc_info?op=rs_list&ds=hmi.sharp_cea_720s%5B1%5D%5B%5D%5B%3F+%28QUALITY%3C65536%29+%3F%5D&key=T_REC%2CINSTRUME%2CNOAA_ARS%2CCRVAL1%2CCRLN_OBS%2CTELESCOP%2CUSFLUX%2CMEANGBZ%2CR_VALUE%2CUSFLUXL%2CMEANGBL%2CRSUN_REF%2CRSUN_OBS%2CDSUN_OBS%2CCDELT1%2CSIZE\n",
      "http://jsoc.stanford.edu/cgi-bin/ajax/jsoc_info?op=rs_list&ds=mdi.smarp_cea_96m%5B13395%5D%5B%5D%5B%3F+%28QUALITY%3C262144%29+%3F%5D&key=T_REC%2CTARPNUM%2CNOAA_ARS%2CCRVAL1%2CCRLN_OBS%2CUSFLUXL%2CMEANGBL%2CR_VALUE%2CTELESCOP%2CRSUN_REF%2CRSUN_OBS%2CDSUN_OBS%2CCDELT1%2CSIZE\n",
      "--- Merged ---\n",
      "Gathering data for HARPNUM 2 and TARPNUM 13394\n",
      "Working on active region 2 out of 51.\n",
      "http://jsoc.stanford.edu/cgi-bin/ajax/jsoc_info?op=rs_list&ds=hmi.sharp_cea_720s%5B2%5D%5B%5D%5B%3F+%28QUALITY%3C65536%29+%3F%5D&key=T_REC%2CINSTRUME%2CNOAA_ARS%2CCRVAL1%2CCRLN_OBS%2CTELESCOP%2CUSFLUX%2CMEANGBZ%2CR_VALUE%2CUSFLUXL%2CMEANGBL%2CRSUN_REF%2CRSUN_OBS%2CDSUN_OBS%2CCDELT1%2CSIZE\n",
      "http://jsoc.stanford.edu/cgi-bin/ajax/jsoc_info?op=rs_list&ds=mdi.smarp_cea_96m%5B13394%5D%5B%5D%5B%3F+%28QUALITY%3C262144%29+%3F%5D&key=T_REC%2CTARPNUM%2CNOAA_ARS%2CCRVAL1%2CCRLN_OBS%2CUSFLUXL%2CMEANGBL%2CR_VALUE%2CTELESCOP%2CRSUN_REF%2CRSUN_OBS%2CDSUN_OBS%2CCDELT1%2CSIZE\n",
      "--- Merged ---\n",
      "Gathering data for HARPNUM 8 and TARPNUM 13404\n",
      "Working on active region 3 out of 51.\n",
      "http://jsoc.stanford.edu/cgi-bin/ajax/jsoc_info?op=rs_list&ds=hmi.sharp_cea_720s%5B8%5D%5B%5D%5B%3F+%28QUALITY%3C65536%29+%3F%5D&key=T_REC%2CINSTRUME%2CNOAA_ARS%2CCRVAL1%2CCRLN_OBS%2CTELESCOP%2CUSFLUX%2CMEANGBZ%2CR_VALUE%2CUSFLUXL%2CMEANGBL%2CRSUN_REF%2CRSUN_OBS%2CDSUN_OBS%2CCDELT1%2CSIZE\n",
      "http://jsoc.stanford.edu/cgi-bin/ajax/jsoc_info?op=rs_list&ds=mdi.smarp_cea_96m%5B13404%5D%5B%5D%5B%3F+%28QUALITY%3C262144%29+%3F%5D&key=T_REC%2CTARPNUM%2CNOAA_ARS%2CCRVAL1%2CCRLN_OBS%2CUSFLUXL%2CMEANGBL%2CR_VALUE%2CTELESCOP%2CRSUN_REF%2CRSUN_OBS%2CDSUN_OBS%2CCDELT1%2CSIZE\n",
      "--- Merged ---\n",
      "Gathering data for HARPNUM 10 and TARPNUM 13400\n",
      "Working on active region 4 out of 51.\n",
      "http://jsoc.stanford.edu/cgi-bin/ajax/jsoc_info?op=rs_list&ds=hmi.sharp_cea_720s%5B10%5D%5B%5D%5B%3F+%28QUALITY%3C65536%29+%3F%5D&key=T_REC%2CINSTRUME%2CNOAA_ARS%2CCRVAL1%2CCRLN_OBS%2CTELESCOP%2CUSFLUX%2CMEANGBZ%2CR_VALUE%2CUSFLUXL%2CMEANGBL%2CRSUN_REF%2CRSUN_OBS%2CDSUN_OBS%2CCDELT1%2CSIZE\n",
      "http://jsoc.stanford.edu/cgi-bin/ajax/jsoc_info?op=rs_list&ds=mdi.smarp_cea_96m%5B13400%5D%5B%5D%5B%3F+%28QUALITY%3C262144%29+%3F%5D&key=T_REC%2CTARPNUM%2CNOAA_ARS%2CCRVAL1%2CCRLN_OBS%2CUSFLUXL%2CMEANGBL%2CR_VALUE%2CTELESCOP%2CRSUN_REF%2CRSUN_OBS%2CDSUN_OBS%2CCDELT1%2CSIZE\n",
      "--- Merged ---\n",
      "Gathering data for HARPNUM 11 and TARPNUM 13401\n",
      "Working on active region 5 out of 51.\n",
      "http://jsoc.stanford.edu/cgi-bin/ajax/jsoc_info?op=rs_list&ds=hmi.sharp_cea_720s%5B11%5D%5B%5D%5B%3F+%28QUALITY%3C65536%29+%3F%5D&key=T_REC%2CINSTRUME%2CNOAA_ARS%2CCRVAL1%2CCRLN_OBS%2CTELESCOP%2CUSFLUX%2CMEANGBZ%2CR_VALUE%2CUSFLUXL%2CMEANGBL%2CRSUN_REF%2CRSUN_OBS%2CDSUN_OBS%2CCDELT1%2CSIZE\n",
      "http://jsoc.stanford.edu/cgi-bin/ajax/jsoc_info?op=rs_list&ds=mdi.smarp_cea_96m%5B13401%5D%5B%5D%5B%3F+%28QUALITY%3C262144%29+%3F%5D&key=T_REC%2CTARPNUM%2CNOAA_ARS%2CCRVAL1%2CCRLN_OBS%2CUSFLUXL%2CMEANGBL%2CR_VALUE%2CTELESCOP%2CRSUN_REF%2CRSUN_OBS%2CDSUN_OBS%2CCDELT1%2CSIZE\n",
      "--- Merged ---\n",
      "Gathering data for HARPNUM 12 and TARPNUM 13402\n",
      "Working on active region 6 out of 51.\n",
      "http://jsoc.stanford.edu/cgi-bin/ajax/jsoc_info?op=rs_list&ds=hmi.sharp_cea_720s%5B12%5D%5B%5D%5B%3F+%28QUALITY%3C65536%29+%3F%5D&key=T_REC%2CINSTRUME%2CNOAA_ARS%2CCRVAL1%2CCRLN_OBS%2CTELESCOP%2CUSFLUX%2CMEANGBZ%2CR_VALUE%2CUSFLUXL%2CMEANGBL%2CRSUN_REF%2CRSUN_OBS%2CDSUN_OBS%2CCDELT1%2CSIZE\n",
      "http://jsoc.stanford.edu/cgi-bin/ajax/jsoc_info?op=rs_list&ds=mdi.smarp_cea_96m%5B13402%5D%5B%5D%5B%3F+%28QUALITY%3C262144%29+%3F%5D&key=T_REC%2CTARPNUM%2CNOAA_ARS%2CCRVAL1%2CCRLN_OBS%2CUSFLUXL%2CMEANGBL%2CR_VALUE%2CTELESCOP%2CRSUN_REF%2CRSUN_OBS%2CDSUN_OBS%2CCDELT1%2CSIZE\n",
      "--- Merged ---\n",
      "Gathering data for HARPNUM 14 and TARPNUM 13410\n",
      "Working on active region 7 out of 51.\n",
      "http://jsoc.stanford.edu/cgi-bin/ajax/jsoc_info?op=rs_list&ds=hmi.sharp_cea_720s%5B14%5D%5B%5D%5B%3F+%28QUALITY%3C65536%29+%3F%5D&key=T_REC%2CINSTRUME%2CNOAA_ARS%2CCRVAL1%2CCRLN_OBS%2CTELESCOP%2CUSFLUX%2CMEANGBZ%2CR_VALUE%2CUSFLUXL%2CMEANGBL%2CRSUN_REF%2CRSUN_OBS%2CDSUN_OBS%2CCDELT1%2CSIZE\n",
      "http://jsoc.stanford.edu/cgi-bin/ajax/jsoc_info?op=rs_list&ds=mdi.smarp_cea_96m%5B13410%5D%5B%5D%5B%3F+%28QUALITY%3C262144%29+%3F%5D&key=T_REC%2CTARPNUM%2CNOAA_ARS%2CCRVAL1%2CCRLN_OBS%2CUSFLUXL%2CMEANGBL%2CR_VALUE%2CTELESCOP%2CRSUN_REF%2CRSUN_OBS%2CDSUN_OBS%2CCDELT1%2CSIZE\n",
      "--- Merged ---\n",
      "Gathering data for HARPNUM 26 and TARPNUM 13433\n",
      "Working on active region 8 out of 51.\n",
      "http://jsoc.stanford.edu/cgi-bin/ajax/jsoc_info?op=rs_list&ds=hmi.sharp_cea_720s%5B26%5D%5B%5D%5B%3F+%28QUALITY%3C65536%29+%3F%5D&key=T_REC%2CINSTRUME%2CNOAA_ARS%2CCRVAL1%2CCRLN_OBS%2CTELESCOP%2CUSFLUX%2CMEANGBZ%2CR_VALUE%2CUSFLUXL%2CMEANGBL%2CRSUN_REF%2CRSUN_OBS%2CDSUN_OBS%2CCDELT1%2CSIZE\n",
      "http://jsoc.stanford.edu/cgi-bin/ajax/jsoc_info?op=rs_list&ds=mdi.smarp_cea_96m%5B13433%5D%5B%5D%5B%3F+%28QUALITY%3C262144%29+%3F%5D&key=T_REC%2CTARPNUM%2CNOAA_ARS%2CCRVAL1%2CCRLN_OBS%2CUSFLUXL%2CMEANGBL%2CR_VALUE%2CTELESCOP%2CRSUN_REF%2CRSUN_OBS%2CDSUN_OBS%2CCDELT1%2CSIZE\n",
      "--- Merged ---\n",
      "Gathering data for HARPNUM 38 and TARPNUM 13451\n",
      "Working on active region 9 out of 51.\n",
      "http://jsoc.stanford.edu/cgi-bin/ajax/jsoc_info?op=rs_list&ds=hmi.sharp_cea_720s%5B38%5D%5B%5D%5B%3F+%28QUALITY%3C65536%29+%3F%5D&key=T_REC%2CINSTRUME%2CNOAA_ARS%2CCRVAL1%2CCRLN_OBS%2CTELESCOP%2CUSFLUX%2CMEANGBZ%2CR_VALUE%2CUSFLUXL%2CMEANGBL%2CRSUN_REF%2CRSUN_OBS%2CDSUN_OBS%2CCDELT1%2CSIZE\n",
      "http://jsoc.stanford.edu/cgi-bin/ajax/jsoc_info?op=rs_list&ds=mdi.smarp_cea_96m%5B13451%5D%5B%5D%5B%3F+%28QUALITY%3C262144%29+%3F%5D&key=T_REC%2CTARPNUM%2CNOAA_ARS%2CCRVAL1%2CCRLN_OBS%2CUSFLUXL%2CMEANGBL%2CR_VALUE%2CTELESCOP%2CRSUN_REF%2CRSUN_OBS%2CDSUN_OBS%2CCDELT1%2CSIZE\n",
      "--- Merged ---\n",
      "Gathering data for HARPNUM 40 and TARPNUM 13454\n",
      "Working on active region 10 out of 51.\n",
      "http://jsoc.stanford.edu/cgi-bin/ajax/jsoc_info?op=rs_list&ds=hmi.sharp_cea_720s%5B40%5D%5B%5D%5B%3F+%28QUALITY%3C65536%29+%3F%5D&key=T_REC%2CINSTRUME%2CNOAA_ARS%2CCRVAL1%2CCRLN_OBS%2CTELESCOP%2CUSFLUX%2CMEANGBZ%2CR_VALUE%2CUSFLUXL%2CMEANGBL%2CRSUN_REF%2CRSUN_OBS%2CDSUN_OBS%2CCDELT1%2CSIZE\n",
      "http://jsoc.stanford.edu/cgi-bin/ajax/jsoc_info?op=rs_list&ds=mdi.smarp_cea_96m%5B13454%5D%5B%5D%5B%3F+%28QUALITY%3C262144%29+%3F%5D&key=T_REC%2CTARPNUM%2CNOAA_ARS%2CCRVAL1%2CCRLN_OBS%2CUSFLUXL%2CMEANGBL%2CR_VALUE%2CTELESCOP%2CRSUN_REF%2CRSUN_OBS%2CDSUN_OBS%2CCDELT1%2CSIZE\n",
      "--- Merged ---\n",
      "Gathering data for HARPNUM 41 and TARPNUM 13453\n",
      "Working on active region 11 out of 51.\n",
      "http://jsoc.stanford.edu/cgi-bin/ajax/jsoc_info?op=rs_list&ds=hmi.sharp_cea_720s%5B41%5D%5B%5D%5B%3F+%28QUALITY%3C65536%29+%3F%5D&key=T_REC%2CINSTRUME%2CNOAA_ARS%2CCRVAL1%2CCRLN_OBS%2CTELESCOP%2CUSFLUX%2CMEANGBZ%2CR_VALUE%2CUSFLUXL%2CMEANGBL%2CRSUN_REF%2CRSUN_OBS%2CDSUN_OBS%2CCDELT1%2CSIZE\n",
      "http://jsoc.stanford.edu/cgi-bin/ajax/jsoc_info?op=rs_list&ds=mdi.smarp_cea_96m%5B13453%5D%5B%5D%5B%3F+%28QUALITY%3C262144%29+%3F%5D&key=T_REC%2CTARPNUM%2CNOAA_ARS%2CCRVAL1%2CCRLN_OBS%2CUSFLUXL%2CMEANGBL%2CR_VALUE%2CTELESCOP%2CRSUN_REF%2CRSUN_OBS%2CDSUN_OBS%2CCDELT1%2CSIZE\n",
      "--- Merged ---\n",
      "Gathering data for HARPNUM 43 and TARPNUM 13456\n",
      "Working on active region 12 out of 51.\n",
      "http://jsoc.stanford.edu/cgi-bin/ajax/jsoc_info?op=rs_list&ds=hmi.sharp_cea_720s%5B43%5D%5B%5D%5B%3F+%28QUALITY%3C65536%29+%3F%5D&key=T_REC%2CINSTRUME%2CNOAA_ARS%2CCRVAL1%2CCRLN_OBS%2CTELESCOP%2CUSFLUX%2CMEANGBZ%2CR_VALUE%2CUSFLUXL%2CMEANGBL%2CRSUN_REF%2CRSUN_OBS%2CDSUN_OBS%2CCDELT1%2CSIZE\n",
      "http://jsoc.stanford.edu/cgi-bin/ajax/jsoc_info?op=rs_list&ds=mdi.smarp_cea_96m%5B13456%5D%5B%5D%5B%3F+%28QUALITY%3C262144%29+%3F%5D&key=T_REC%2CTARPNUM%2CNOAA_ARS%2CCRVAL1%2CCRLN_OBS%2CUSFLUXL%2CMEANGBL%2CR_VALUE%2CTELESCOP%2CRSUN_REF%2CRSUN_OBS%2CDSUN_OBS%2CCDELT1%2CSIZE\n",
      "--- Merged ---\n",
      "Gathering data for HARPNUM 46 and TARPNUM 13467\n",
      "Working on active region 13 out of 51.\n",
      "http://jsoc.stanford.edu/cgi-bin/ajax/jsoc_info?op=rs_list&ds=hmi.sharp_cea_720s%5B46%5D%5B%5D%5B%3F+%28QUALITY%3C65536%29+%3F%5D&key=T_REC%2CINSTRUME%2CNOAA_ARS%2CCRVAL1%2CCRLN_OBS%2CTELESCOP%2CUSFLUX%2CMEANGBZ%2CR_VALUE%2CUSFLUXL%2CMEANGBL%2CRSUN_REF%2CRSUN_OBS%2CDSUN_OBS%2CCDELT1%2CSIZE\n",
      "http://jsoc.stanford.edu/cgi-bin/ajax/jsoc_info?op=rs_list&ds=mdi.smarp_cea_96m%5B13467%5D%5B%5D%5B%3F+%28QUALITY%3C262144%29+%3F%5D&key=T_REC%2CTARPNUM%2CNOAA_ARS%2CCRVAL1%2CCRLN_OBS%2CUSFLUXL%2CMEANGBL%2CR_VALUE%2CTELESCOP%2CRSUN_REF%2CRSUN_OBS%2CDSUN_OBS%2CCDELT1%2CSIZE\n",
      "--- Merged ---\n",
      "Gathering data for HARPNUM 49 and TARPNUM 13468\n",
      "Working on active region 14 out of 51.\n",
      "http://jsoc.stanford.edu/cgi-bin/ajax/jsoc_info?op=rs_list&ds=hmi.sharp_cea_720s%5B49%5D%5B%5D%5B%3F+%28QUALITY%3C65536%29+%3F%5D&key=T_REC%2CINSTRUME%2CNOAA_ARS%2CCRVAL1%2CCRLN_OBS%2CTELESCOP%2CUSFLUX%2CMEANGBZ%2CR_VALUE%2CUSFLUXL%2CMEANGBL%2CRSUN_REF%2CRSUN_OBS%2CDSUN_OBS%2CCDELT1%2CSIZE\n",
      "http://jsoc.stanford.edu/cgi-bin/ajax/jsoc_info?op=rs_list&ds=mdi.smarp_cea_96m%5B13468%5D%5B%5D%5B%3F+%28QUALITY%3C262144%29+%3F%5D&key=T_REC%2CTARPNUM%2CNOAA_ARS%2CCRVAL1%2CCRLN_OBS%2CUSFLUXL%2CMEANGBL%2CR_VALUE%2CTELESCOP%2CRSUN_REF%2CRSUN_OBS%2CDSUN_OBS%2CCDELT1%2CSIZE\n",
      "--- Merged ---\n",
      "Gathering data for HARPNUM 51 and TARPNUM 13472\n",
      "Working on active region 15 out of 51.\n",
      "http://jsoc.stanford.edu/cgi-bin/ajax/jsoc_info?op=rs_list&ds=hmi.sharp_cea_720s%5B51%5D%5B%5D%5B%3F+%28QUALITY%3C65536%29+%3F%5D&key=T_REC%2CINSTRUME%2CNOAA_ARS%2CCRVAL1%2CCRLN_OBS%2CTELESCOP%2CUSFLUX%2CMEANGBZ%2CR_VALUE%2CUSFLUXL%2CMEANGBL%2CRSUN_REF%2CRSUN_OBS%2CDSUN_OBS%2CCDELT1%2CSIZE\n",
      "http://jsoc.stanford.edu/cgi-bin/ajax/jsoc_info?op=rs_list&ds=mdi.smarp_cea_96m%5B13472%5D%5B%5D%5B%3F+%28QUALITY%3C262144%29+%3F%5D&key=T_REC%2CTARPNUM%2CNOAA_ARS%2CCRVAL1%2CCRLN_OBS%2CUSFLUXL%2CMEANGBL%2CR_VALUE%2CTELESCOP%2CRSUN_REF%2CRSUN_OBS%2CDSUN_OBS%2CCDELT1%2CSIZE\n",
      "--- Merged ---\n",
      "Gathering data for HARPNUM 54 and TARPNUM 13474\n",
      "Working on active region 16 out of 51.\n",
      "http://jsoc.stanford.edu/cgi-bin/ajax/jsoc_info?op=rs_list&ds=hmi.sharp_cea_720s%5B54%5D%5B%5D%5B%3F+%28QUALITY%3C65536%29+%3F%5D&key=T_REC%2CINSTRUME%2CNOAA_ARS%2CCRVAL1%2CCRLN_OBS%2CTELESCOP%2CUSFLUX%2CMEANGBZ%2CR_VALUE%2CUSFLUXL%2CMEANGBL%2CRSUN_REF%2CRSUN_OBS%2CDSUN_OBS%2CCDELT1%2CSIZE\n",
      "http://jsoc.stanford.edu/cgi-bin/ajax/jsoc_info?op=rs_list&ds=mdi.smarp_cea_96m%5B13474%5D%5B%5D%5B%3F+%28QUALITY%3C262144%29+%3F%5D&key=T_REC%2CTARPNUM%2CNOAA_ARS%2CCRVAL1%2CCRLN_OBS%2CUSFLUXL%2CMEANGBL%2CR_VALUE%2CTELESCOP%2CRSUN_REF%2CRSUN_OBS%2CDSUN_OBS%2CCDELT1%2CSIZE\n",
      "--- Merged ---\n",
      "Gathering data for HARPNUM 57 and TARPNUM 13480\n",
      "Working on active region 17 out of 51.\n",
      "http://jsoc.stanford.edu/cgi-bin/ajax/jsoc_info?op=rs_list&ds=hmi.sharp_cea_720s%5B57%5D%5B%5D%5B%3F+%28QUALITY%3C65536%29+%3F%5D&key=T_REC%2CINSTRUME%2CNOAA_ARS%2CCRVAL1%2CCRLN_OBS%2CTELESCOP%2CUSFLUX%2CMEANGBZ%2CR_VALUE%2CUSFLUXL%2CMEANGBL%2CRSUN_REF%2CRSUN_OBS%2CDSUN_OBS%2CCDELT1%2CSIZE\n",
      "http://jsoc.stanford.edu/cgi-bin/ajax/jsoc_info?op=rs_list&ds=mdi.smarp_cea_96m%5B13480%5D%5B%5D%5B%3F+%28QUALITY%3C262144%29+%3F%5D&key=T_REC%2CTARPNUM%2CNOAA_ARS%2CCRVAL1%2CCRLN_OBS%2CUSFLUXL%2CMEANGBL%2CR_VALUE%2CTELESCOP%2CRSUN_REF%2CRSUN_OBS%2CDSUN_OBS%2CCDELT1%2CSIZE\n",
      "--- Merged ---\n",
      "Gathering data for HARPNUM 58 and TARPNUM 13482\n",
      "Working on active region 18 out of 51.\n",
      "http://jsoc.stanford.edu/cgi-bin/ajax/jsoc_info?op=rs_list&ds=hmi.sharp_cea_720s%5B58%5D%5B%5D%5B%3F+%28QUALITY%3C65536%29+%3F%5D&key=T_REC%2CINSTRUME%2CNOAA_ARS%2CCRVAL1%2CCRLN_OBS%2CTELESCOP%2CUSFLUX%2CMEANGBZ%2CR_VALUE%2CUSFLUXL%2CMEANGBL%2CRSUN_REF%2CRSUN_OBS%2CDSUN_OBS%2CCDELT1%2CSIZE\n",
      "http://jsoc.stanford.edu/cgi-bin/ajax/jsoc_info?op=rs_list&ds=mdi.smarp_cea_96m%5B13482%5D%5B%5D%5B%3F+%28QUALITY%3C262144%29+%3F%5D&key=T_REC%2CTARPNUM%2CNOAA_ARS%2CCRVAL1%2CCRLN_OBS%2CUSFLUXL%2CMEANGBL%2CR_VALUE%2CTELESCOP%2CRSUN_REF%2CRSUN_OBS%2CDSUN_OBS%2CCDELT1%2CSIZE\n",
      "--- Merged ---\n",
      "Gathering data for HARPNUM 67 and TARPNUM 13496\n",
      "Working on active region 19 out of 51.\n",
      "http://jsoc.stanford.edu/cgi-bin/ajax/jsoc_info?op=rs_list&ds=hmi.sharp_cea_720s%5B67%5D%5B%5D%5B%3F+%28QUALITY%3C65536%29+%3F%5D&key=T_REC%2CINSTRUME%2CNOAA_ARS%2CCRVAL1%2CCRLN_OBS%2CTELESCOP%2CUSFLUX%2CMEANGBZ%2CR_VALUE%2CUSFLUXL%2CMEANGBL%2CRSUN_REF%2CRSUN_OBS%2CDSUN_OBS%2CCDELT1%2CSIZE\n",
      "http://jsoc.stanford.edu/cgi-bin/ajax/jsoc_info?op=rs_list&ds=mdi.smarp_cea_96m%5B13496%5D%5B%5D%5B%3F+%28QUALITY%3C262144%29+%3F%5D&key=T_REC%2CTARPNUM%2CNOAA_ARS%2CCRVAL1%2CCRLN_OBS%2CUSFLUXL%2CMEANGBL%2CR_VALUE%2CTELESCOP%2CRSUN_REF%2CRSUN_OBS%2CDSUN_OBS%2CCDELT1%2CSIZE\n",
      "--- Merged ---\n",
      "Gathering data for HARPNUM 71 and TARPNUM 13498\n",
      "Working on active region 20 out of 51.\n",
      "http://jsoc.stanford.edu/cgi-bin/ajax/jsoc_info?op=rs_list&ds=hmi.sharp_cea_720s%5B71%5D%5B%5D%5B%3F+%28QUALITY%3C65536%29+%3F%5D&key=T_REC%2CINSTRUME%2CNOAA_ARS%2CCRVAL1%2CCRLN_OBS%2CTELESCOP%2CUSFLUX%2CMEANGBZ%2CR_VALUE%2CUSFLUXL%2CMEANGBL%2CRSUN_REF%2CRSUN_OBS%2CDSUN_OBS%2CCDELT1%2CSIZE\n",
      "http://jsoc.stanford.edu/cgi-bin/ajax/jsoc_info?op=rs_list&ds=mdi.smarp_cea_96m%5B13498%5D%5B%5D%5B%3F+%28QUALITY%3C262144%29+%3F%5D&key=T_REC%2CTARPNUM%2CNOAA_ARS%2CCRVAL1%2CCRLN_OBS%2CUSFLUXL%2CMEANGBL%2CR_VALUE%2CTELESCOP%2CRSUN_REF%2CRSUN_OBS%2CDSUN_OBS%2CCDELT1%2CSIZE\n",
      "--- Merged ---\n",
      "Gathering data for HARPNUM 83 and TARPNUM 13509\n",
      "Working on active region 21 out of 51.\n",
      "http://jsoc.stanford.edu/cgi-bin/ajax/jsoc_info?op=rs_list&ds=hmi.sharp_cea_720s%5B83%5D%5B%5D%5B%3F+%28QUALITY%3C65536%29+%3F%5D&key=T_REC%2CINSTRUME%2CNOAA_ARS%2CCRVAL1%2CCRLN_OBS%2CTELESCOP%2CUSFLUX%2CMEANGBZ%2CR_VALUE%2CUSFLUXL%2CMEANGBL%2CRSUN_REF%2CRSUN_OBS%2CDSUN_OBS%2CCDELT1%2CSIZE\n",
      "http://jsoc.stanford.edu/cgi-bin/ajax/jsoc_info?op=rs_list&ds=mdi.smarp_cea_96m%5B13509%5D%5B%5D%5B%3F+%28QUALITY%3C262144%29+%3F%5D&key=T_REC%2CTARPNUM%2CNOAA_ARS%2CCRVAL1%2CCRLN_OBS%2CUSFLUXL%2CMEANGBL%2CR_VALUE%2CTELESCOP%2CRSUN_REF%2CRSUN_OBS%2CDSUN_OBS%2CCDELT1%2CSIZE\n",
      "--- Merged ---\n",
      "Gathering data for HARPNUM 86 and TARPNUM 13520\n",
      "Working on active region 22 out of 51.\n",
      "http://jsoc.stanford.edu/cgi-bin/ajax/jsoc_info?op=rs_list&ds=hmi.sharp_cea_720s%5B86%5D%5B%5D%5B%3F+%28QUALITY%3C65536%29+%3F%5D&key=T_REC%2CINSTRUME%2CNOAA_ARS%2CCRVAL1%2CCRLN_OBS%2CTELESCOP%2CUSFLUX%2CMEANGBZ%2CR_VALUE%2CUSFLUXL%2CMEANGBL%2CRSUN_REF%2CRSUN_OBS%2CDSUN_OBS%2CCDELT1%2CSIZE\n",
      "http://jsoc.stanford.edu/cgi-bin/ajax/jsoc_info?op=rs_list&ds=mdi.smarp_cea_96m%5B13520%5D%5B%5D%5B%3F+%28QUALITY%3C262144%29+%3F%5D&key=T_REC%2CTARPNUM%2CNOAA_ARS%2CCRVAL1%2CCRLN_OBS%2CUSFLUXL%2CMEANGBL%2CR_VALUE%2CTELESCOP%2CRSUN_REF%2CRSUN_OBS%2CDSUN_OBS%2CCDELT1%2CSIZE\n",
      "--- Merged ---\n",
      "Gathering data for HARPNUM 89 and TARPNUM 13525\n",
      "Working on active region 23 out of 51.\n",
      "http://jsoc.stanford.edu/cgi-bin/ajax/jsoc_info?op=rs_list&ds=hmi.sharp_cea_720s%5B89%5D%5B%5D%5B%3F+%28QUALITY%3C65536%29+%3F%5D&key=T_REC%2CINSTRUME%2CNOAA_ARS%2CCRVAL1%2CCRLN_OBS%2CTELESCOP%2CUSFLUX%2CMEANGBZ%2CR_VALUE%2CUSFLUXL%2CMEANGBL%2CRSUN_REF%2CRSUN_OBS%2CDSUN_OBS%2CCDELT1%2CSIZE\n",
      "http://jsoc.stanford.edu/cgi-bin/ajax/jsoc_info?op=rs_list&ds=mdi.smarp_cea_96m%5B13525%5D%5B%5D%5B%3F+%28QUALITY%3C262144%29+%3F%5D&key=T_REC%2CTARPNUM%2CNOAA_ARS%2CCRVAL1%2CCRLN_OBS%2CUSFLUXL%2CMEANGBL%2CR_VALUE%2CTELESCOP%2CRSUN_REF%2CRSUN_OBS%2CDSUN_OBS%2CCDELT1%2CSIZE\n",
      "--- Merged ---\n",
      "Gathering data for HARPNUM 92 and TARPNUM 13529\n",
      "Working on active region 24 out of 51.\n",
      "http://jsoc.stanford.edu/cgi-bin/ajax/jsoc_info?op=rs_list&ds=hmi.sharp_cea_720s%5B92%5D%5B%5D%5B%3F+%28QUALITY%3C65536%29+%3F%5D&key=T_REC%2CINSTRUME%2CNOAA_ARS%2CCRVAL1%2CCRLN_OBS%2CTELESCOP%2CUSFLUX%2CMEANGBZ%2CR_VALUE%2CUSFLUXL%2CMEANGBL%2CRSUN_REF%2CRSUN_OBS%2CDSUN_OBS%2CCDELT1%2CSIZE\n",
      "http://jsoc.stanford.edu/cgi-bin/ajax/jsoc_info?op=rs_list&ds=mdi.smarp_cea_96m%5B13529%5D%5B%5D%5B%3F+%28QUALITY%3C262144%29+%3F%5D&key=T_REC%2CTARPNUM%2CNOAA_ARS%2CCRVAL1%2CCRLN_OBS%2CUSFLUXL%2CMEANGBL%2CR_VALUE%2CTELESCOP%2CRSUN_REF%2CRSUN_OBS%2CDSUN_OBS%2CCDELT1%2CSIZE\n",
      "--- Merged ---\n",
      "Gathering data for HARPNUM 98 and TARPNUM 13538\n",
      "Working on active region 25 out of 51.\n",
      "http://jsoc.stanford.edu/cgi-bin/ajax/jsoc_info?op=rs_list&ds=hmi.sharp_cea_720s%5B98%5D%5B%5D%5B%3F+%28QUALITY%3C65536%29+%3F%5D&key=T_REC%2CINSTRUME%2CNOAA_ARS%2CCRVAL1%2CCRLN_OBS%2CTELESCOP%2CUSFLUX%2CMEANGBZ%2CR_VALUE%2CUSFLUXL%2CMEANGBL%2CRSUN_REF%2CRSUN_OBS%2CDSUN_OBS%2CCDELT1%2CSIZE\n",
      "http://jsoc.stanford.edu/cgi-bin/ajax/jsoc_info?op=rs_list&ds=mdi.smarp_cea_96m%5B13538%5D%5B%5D%5B%3F+%28QUALITY%3C262144%29+%3F%5D&key=T_REC%2CTARPNUM%2CNOAA_ARS%2CCRVAL1%2CCRLN_OBS%2CUSFLUXL%2CMEANGBL%2CR_VALUE%2CTELESCOP%2CRSUN_REF%2CRSUN_OBS%2CDSUN_OBS%2CCDELT1%2CSIZE\n",
      "--- Merged ---\n",
      "Gathering data for HARPNUM 104 and TARPNUM 13541\n",
      "Working on active region 26 out of 51.\n",
      "http://jsoc.stanford.edu/cgi-bin/ajax/jsoc_info?op=rs_list&ds=hmi.sharp_cea_720s%5B104%5D%5B%5D%5B%3F+%28QUALITY%3C65536%29+%3F%5D&key=T_REC%2CINSTRUME%2CNOAA_ARS%2CCRVAL1%2CCRLN_OBS%2CTELESCOP%2CUSFLUX%2CMEANGBZ%2CR_VALUE%2CUSFLUXL%2CMEANGBL%2CRSUN_REF%2CRSUN_OBS%2CDSUN_OBS%2CCDELT1%2CSIZE\n",
      "http://jsoc.stanford.edu/cgi-bin/ajax/jsoc_info?op=rs_list&ds=mdi.smarp_cea_96m%5B13541%5D%5B%5D%5B%3F+%28QUALITY%3C262144%29+%3F%5D&key=T_REC%2CTARPNUM%2CNOAA_ARS%2CCRVAL1%2CCRLN_OBS%2CUSFLUXL%2CMEANGBL%2CR_VALUE%2CTELESCOP%2CRSUN_REF%2CRSUN_OBS%2CDSUN_OBS%2CCDELT1%2CSIZE\n",
      "--- Merged ---\n",
      "Gathering data for HARPNUM 107 and TARPNUM 13542\n",
      "Working on active region 27 out of 51.\n",
      "http://jsoc.stanford.edu/cgi-bin/ajax/jsoc_info?op=rs_list&ds=hmi.sharp_cea_720s%5B107%5D%5B%5D%5B%3F+%28QUALITY%3C65536%29+%3F%5D&key=T_REC%2CINSTRUME%2CNOAA_ARS%2CCRVAL1%2CCRLN_OBS%2CTELESCOP%2CUSFLUX%2CMEANGBZ%2CR_VALUE%2CUSFLUXL%2CMEANGBL%2CRSUN_REF%2CRSUN_OBS%2CDSUN_OBS%2CCDELT1%2CSIZE\n",
      "http://jsoc.stanford.edu/cgi-bin/ajax/jsoc_info?op=rs_list&ds=mdi.smarp_cea_96m%5B13542%5D%5B%5D%5B%3F+%28QUALITY%3C262144%29+%3F%5D&key=T_REC%2CTARPNUM%2CNOAA_ARS%2CCRVAL1%2CCRLN_OBS%2CUSFLUXL%2CMEANGBL%2CR_VALUE%2CTELESCOP%2CRSUN_REF%2CRSUN_OBS%2CDSUN_OBS%2CCDELT1%2CSIZE\n",
      "--- Merged ---\n",
      "Gathering data for HARPNUM 114 and TARPNUM 13553\n",
      "Working on active region 28 out of 51.\n",
      "http://jsoc.stanford.edu/cgi-bin/ajax/jsoc_info?op=rs_list&ds=hmi.sharp_cea_720s%5B114%5D%5B%5D%5B%3F+%28QUALITY%3C65536%29+%3F%5D&key=T_REC%2CINSTRUME%2CNOAA_ARS%2CCRVAL1%2CCRLN_OBS%2CTELESCOP%2CUSFLUX%2CMEANGBZ%2CR_VALUE%2CUSFLUXL%2CMEANGBL%2CRSUN_REF%2CRSUN_OBS%2CDSUN_OBS%2CCDELT1%2CSIZE\n",
      "http://jsoc.stanford.edu/cgi-bin/ajax/jsoc_info?op=rs_list&ds=mdi.smarp_cea_96m%5B13553%5D%5B%5D%5B%3F+%28QUALITY%3C262144%29+%3F%5D&key=T_REC%2CTARPNUM%2CNOAA_ARS%2CCRVAL1%2CCRLN_OBS%2CUSFLUXL%2CMEANGBL%2CR_VALUE%2CTELESCOP%2CRSUN_REF%2CRSUN_OBS%2CDSUN_OBS%2CCDELT1%2CSIZE\n",
      "--- Merged ---\n",
      "Gathering data for HARPNUM 115 and TARPNUM 13550\n",
      "Working on active region 29 out of 51.\n",
      "http://jsoc.stanford.edu/cgi-bin/ajax/jsoc_info?op=rs_list&ds=hmi.sharp_cea_720s%5B115%5D%5B%5D%5B%3F+%28QUALITY%3C65536%29+%3F%5D&key=T_REC%2CINSTRUME%2CNOAA_ARS%2CCRVAL1%2CCRLN_OBS%2CTELESCOP%2CUSFLUX%2CMEANGBZ%2CR_VALUE%2CUSFLUXL%2CMEANGBL%2CRSUN_REF%2CRSUN_OBS%2CDSUN_OBS%2CCDELT1%2CSIZE\n",
      "http://jsoc.stanford.edu/cgi-bin/ajax/jsoc_info?op=rs_list&ds=mdi.smarp_cea_96m%5B13550%5D%5B%5D%5B%3F+%28QUALITY%3C262144%29+%3F%5D&key=T_REC%2CTARPNUM%2CNOAA_ARS%2CCRVAL1%2CCRLN_OBS%2CUSFLUXL%2CMEANGBL%2CR_VALUE%2CTELESCOP%2CRSUN_REF%2CRSUN_OBS%2CDSUN_OBS%2CCDELT1%2CSIZE\n",
      "--- Merged ---\n",
      "Gathering data for HARPNUM 116 and TARPNUM 13560\n",
      "Working on active region 30 out of 51.\n",
      "http://jsoc.stanford.edu/cgi-bin/ajax/jsoc_info?op=rs_list&ds=hmi.sharp_cea_720s%5B116%5D%5B%5D%5B%3F+%28QUALITY%3C65536%29+%3F%5D&key=T_REC%2CINSTRUME%2CNOAA_ARS%2CCRVAL1%2CCRLN_OBS%2CTELESCOP%2CUSFLUX%2CMEANGBZ%2CR_VALUE%2CUSFLUXL%2CMEANGBL%2CRSUN_REF%2CRSUN_OBS%2CDSUN_OBS%2CCDELT1%2CSIZE\n",
      "http://jsoc.stanford.edu/cgi-bin/ajax/jsoc_info?op=rs_list&ds=mdi.smarp_cea_96m%5B13560%5D%5B%5D%5B%3F+%28QUALITY%3C262144%29+%3F%5D&key=T_REC%2CTARPNUM%2CNOAA_ARS%2CCRVAL1%2CCRLN_OBS%2CUSFLUXL%2CMEANGBL%2CR_VALUE%2CTELESCOP%2CRSUN_REF%2CRSUN_OBS%2CDSUN_OBS%2CCDELT1%2CSIZE\n",
      "--- Merged ---\n",
      "Gathering data for HARPNUM 128 and TARPNUM 13565\n",
      "Working on active region 31 out of 51.\n",
      "http://jsoc.stanford.edu/cgi-bin/ajax/jsoc_info?op=rs_list&ds=hmi.sharp_cea_720s%5B128%5D%5B%5D%5B%3F+%28QUALITY%3C65536%29+%3F%5D&key=T_REC%2CINSTRUME%2CNOAA_ARS%2CCRVAL1%2CCRLN_OBS%2CTELESCOP%2CUSFLUX%2CMEANGBZ%2CR_VALUE%2CUSFLUXL%2CMEANGBL%2CRSUN_REF%2CRSUN_OBS%2CDSUN_OBS%2CCDELT1%2CSIZE\n",
      "http://jsoc.stanford.edu/cgi-bin/ajax/jsoc_info?op=rs_list&ds=mdi.smarp_cea_96m%5B13565%5D%5B%5D%5B%3F+%28QUALITY%3C262144%29+%3F%5D&key=T_REC%2CTARPNUM%2CNOAA_ARS%2CCRVAL1%2CCRLN_OBS%2CUSFLUXL%2CMEANGBL%2CR_VALUE%2CTELESCOP%2CRSUN_REF%2CRSUN_OBS%2CDSUN_OBS%2CCDELT1%2CSIZE\n",
      "--- Merged ---\n",
      "Gathering data for HARPNUM 131 and TARPNUM 13564\n",
      "Working on active region 32 out of 51.\n",
      "http://jsoc.stanford.edu/cgi-bin/ajax/jsoc_info?op=rs_list&ds=hmi.sharp_cea_720s%5B131%5D%5B%5D%5B%3F+%28QUALITY%3C65536%29+%3F%5D&key=T_REC%2CINSTRUME%2CNOAA_ARS%2CCRVAL1%2CCRLN_OBS%2CTELESCOP%2CUSFLUX%2CMEANGBZ%2CR_VALUE%2CUSFLUXL%2CMEANGBL%2CRSUN_REF%2CRSUN_OBS%2CDSUN_OBS%2CCDELT1%2CSIZE\n",
      "http://jsoc.stanford.edu/cgi-bin/ajax/jsoc_info?op=rs_list&ds=mdi.smarp_cea_96m%5B13564%5D%5B%5D%5B%3F+%28QUALITY%3C262144%29+%3F%5D&key=T_REC%2CTARPNUM%2CNOAA_ARS%2CCRVAL1%2CCRLN_OBS%2CUSFLUXL%2CMEANGBL%2CR_VALUE%2CTELESCOP%2CRSUN_REF%2CRSUN_OBS%2CDSUN_OBS%2CCDELT1%2CSIZE\n",
      "--- Merged ---\n",
      "Gathering data for HARPNUM 135 and TARPNUM 13566\n",
      "Working on active region 33 out of 51.\n",
      "http://jsoc.stanford.edu/cgi-bin/ajax/jsoc_info?op=rs_list&ds=hmi.sharp_cea_720s%5B135%5D%5B%5D%5B%3F+%28QUALITY%3C65536%29+%3F%5D&key=T_REC%2CINSTRUME%2CNOAA_ARS%2CCRVAL1%2CCRLN_OBS%2CTELESCOP%2CUSFLUX%2CMEANGBZ%2CR_VALUE%2CUSFLUXL%2CMEANGBL%2CRSUN_REF%2CRSUN_OBS%2CDSUN_OBS%2CCDELT1%2CSIZE\n",
      "http://jsoc.stanford.edu/cgi-bin/ajax/jsoc_info?op=rs_list&ds=mdi.smarp_cea_96m%5B13566%5D%5B%5D%5B%3F+%28QUALITY%3C262144%29+%3F%5D&key=T_REC%2CTARPNUM%2CNOAA_ARS%2CCRVAL1%2CCRLN_OBS%2CUSFLUXL%2CMEANGBL%2CR_VALUE%2CTELESCOP%2CRSUN_REF%2CRSUN_OBS%2CDSUN_OBS%2CCDELT1%2CSIZE\n",
      "--- Merged ---\n",
      "Gathering data for HARPNUM 135 and TARPNUM 13568\n",
      "Working on active region 34 out of 51.\n",
      "http://jsoc.stanford.edu/cgi-bin/ajax/jsoc_info?op=rs_list&ds=hmi.sharp_cea_720s%5B135%5D%5B%5D%5B%3F+%28QUALITY%3C65536%29+%3F%5D&key=T_REC%2CINSTRUME%2CNOAA_ARS%2CCRVAL1%2CCRLN_OBS%2CTELESCOP%2CUSFLUX%2CMEANGBZ%2CR_VALUE%2CUSFLUXL%2CMEANGBL%2CRSUN_REF%2CRSUN_OBS%2CDSUN_OBS%2CCDELT1%2CSIZE\n",
      "http://jsoc.stanford.edu/cgi-bin/ajax/jsoc_info?op=rs_list&ds=mdi.smarp_cea_96m%5B13568%5D%5B%5D%5B%3F+%28QUALITY%3C262144%29+%3F%5D&key=T_REC%2CTARPNUM%2CNOAA_ARS%2CCRVAL1%2CCRLN_OBS%2CUSFLUXL%2CMEANGBL%2CR_VALUE%2CTELESCOP%2CRSUN_REF%2CRSUN_OBS%2CDSUN_OBS%2CCDELT1%2CSIZE\n",
      "--- Merged ---\n",
      "Gathering data for HARPNUM 145 and TARPNUM 13573\n",
      "Working on active region 35 out of 51.\n",
      "http://jsoc.stanford.edu/cgi-bin/ajax/jsoc_info?op=rs_list&ds=hmi.sharp_cea_720s%5B145%5D%5B%5D%5B%3F+%28QUALITY%3C65536%29+%3F%5D&key=T_REC%2CINSTRUME%2CNOAA_ARS%2CCRVAL1%2CCRLN_OBS%2CTELESCOP%2CUSFLUX%2CMEANGBZ%2CR_VALUE%2CUSFLUXL%2CMEANGBL%2CRSUN_REF%2CRSUN_OBS%2CDSUN_OBS%2CCDELT1%2CSIZE\n",
      "http://jsoc.stanford.edu/cgi-bin/ajax/jsoc_info?op=rs_list&ds=mdi.smarp_cea_96m%5B13573%5D%5B%5D%5B%3F+%28QUALITY%3C262144%29+%3F%5D&key=T_REC%2CTARPNUM%2CNOAA_ARS%2CCRVAL1%2CCRLN_OBS%2CUSFLUXL%2CMEANGBL%2CR_VALUE%2CTELESCOP%2CRSUN_REF%2CRSUN_OBS%2CDSUN_OBS%2CCDELT1%2CSIZE\n",
      "--- Merged ---\n",
      "Gathering data for HARPNUM 146 and TARPNUM 13576\n",
      "Working on active region 36 out of 51.\n",
      "http://jsoc.stanford.edu/cgi-bin/ajax/jsoc_info?op=rs_list&ds=hmi.sharp_cea_720s%5B146%5D%5B%5D%5B%3F+%28QUALITY%3C65536%29+%3F%5D&key=T_REC%2CINSTRUME%2CNOAA_ARS%2CCRVAL1%2CCRLN_OBS%2CTELESCOP%2CUSFLUX%2CMEANGBZ%2CR_VALUE%2CUSFLUXL%2CMEANGBL%2CRSUN_REF%2CRSUN_OBS%2CDSUN_OBS%2CCDELT1%2CSIZE\n",
      "http://jsoc.stanford.edu/cgi-bin/ajax/jsoc_info?op=rs_list&ds=mdi.smarp_cea_96m%5B13576%5D%5B%5D%5B%3F+%28QUALITY%3C262144%29+%3F%5D&key=T_REC%2CTARPNUM%2CNOAA_ARS%2CCRVAL1%2CCRLN_OBS%2CUSFLUXL%2CMEANGBL%2CR_VALUE%2CTELESCOP%2CRSUN_REF%2CRSUN_OBS%2CDSUN_OBS%2CCDELT1%2CSIZE\n",
      "--- Merged ---\n",
      "Gathering data for HARPNUM 155 and TARPNUM 13586\n",
      "Working on active region 37 out of 51.\n",
      "http://jsoc.stanford.edu/cgi-bin/ajax/jsoc_info?op=rs_list&ds=hmi.sharp_cea_720s%5B155%5D%5B%5D%5B%3F+%28QUALITY%3C65536%29+%3F%5D&key=T_REC%2CINSTRUME%2CNOAA_ARS%2CCRVAL1%2CCRLN_OBS%2CTELESCOP%2CUSFLUX%2CMEANGBZ%2CR_VALUE%2CUSFLUXL%2CMEANGBL%2CRSUN_REF%2CRSUN_OBS%2CDSUN_OBS%2CCDELT1%2CSIZE\n",
      "http://jsoc.stanford.edu/cgi-bin/ajax/jsoc_info?op=rs_list&ds=mdi.smarp_cea_96m%5B13586%5D%5B%5D%5B%3F+%28QUALITY%3C262144%29+%3F%5D&key=T_REC%2CTARPNUM%2CNOAA_ARS%2CCRVAL1%2CCRLN_OBS%2CUSFLUXL%2CMEANGBL%2CR_VALUE%2CTELESCOP%2CRSUN_REF%2CRSUN_OBS%2CDSUN_OBS%2CCDELT1%2CSIZE\n",
      "--- Merged ---\n",
      "Gathering data for HARPNUM 156 and TARPNUM 13588\n",
      "Working on active region 38 out of 51.\n",
      "http://jsoc.stanford.edu/cgi-bin/ajax/jsoc_info?op=rs_list&ds=hmi.sharp_cea_720s%5B156%5D%5B%5D%5B%3F+%28QUALITY%3C65536%29+%3F%5D&key=T_REC%2CINSTRUME%2CNOAA_ARS%2CCRVAL1%2CCRLN_OBS%2CTELESCOP%2CUSFLUX%2CMEANGBZ%2CR_VALUE%2CUSFLUXL%2CMEANGBL%2CRSUN_REF%2CRSUN_OBS%2CDSUN_OBS%2CCDELT1%2CSIZE\n",
      "http://jsoc.stanford.edu/cgi-bin/ajax/jsoc_info?op=rs_list&ds=mdi.smarp_cea_96m%5B13588%5D%5B%5D%5B%3F+%28QUALITY%3C262144%29+%3F%5D&key=T_REC%2CTARPNUM%2CNOAA_ARS%2CCRVAL1%2CCRLN_OBS%2CUSFLUXL%2CMEANGBL%2CR_VALUE%2CTELESCOP%2CRSUN_REF%2CRSUN_OBS%2CDSUN_OBS%2CCDELT1%2CSIZE\n",
      "--- Merged ---\n",
      "Gathering data for HARPNUM 175 and TARPNUM 13602\n",
      "Working on active region 39 out of 51.\n",
      "http://jsoc.stanford.edu/cgi-bin/ajax/jsoc_info?op=rs_list&ds=hmi.sharp_cea_720s%5B175%5D%5B%5D%5B%3F+%28QUALITY%3C65536%29+%3F%5D&key=T_REC%2CINSTRUME%2CNOAA_ARS%2CCRVAL1%2CCRLN_OBS%2CTELESCOP%2CUSFLUX%2CMEANGBZ%2CR_VALUE%2CUSFLUXL%2CMEANGBL%2CRSUN_REF%2CRSUN_OBS%2CDSUN_OBS%2CCDELT1%2CSIZE\n",
      "http://jsoc.stanford.edu/cgi-bin/ajax/jsoc_info?op=rs_list&ds=mdi.smarp_cea_96m%5B13602%5D%5B%5D%5B%3F+%28QUALITY%3C262144%29+%3F%5D&key=T_REC%2CTARPNUM%2CNOAA_ARS%2CCRVAL1%2CCRLN_OBS%2CUSFLUXL%2CMEANGBL%2CR_VALUE%2CTELESCOP%2CRSUN_REF%2CRSUN_OBS%2CDSUN_OBS%2CCDELT1%2CSIZE\n",
      "--- Merged ---\n",
      "Gathering data for HARPNUM 185 and TARPNUM 13615\n",
      "Working on active region 40 out of 51.\n",
      "http://jsoc.stanford.edu/cgi-bin/ajax/jsoc_info?op=rs_list&ds=hmi.sharp_cea_720s%5B185%5D%5B%5D%5B%3F+%28QUALITY%3C65536%29+%3F%5D&key=T_REC%2CINSTRUME%2CNOAA_ARS%2CCRVAL1%2CCRLN_OBS%2CTELESCOP%2CUSFLUX%2CMEANGBZ%2CR_VALUE%2CUSFLUXL%2CMEANGBL%2CRSUN_REF%2CRSUN_OBS%2CDSUN_OBS%2CCDELT1%2CSIZE\n",
      "http://jsoc.stanford.edu/cgi-bin/ajax/jsoc_info?op=rs_list&ds=mdi.smarp_cea_96m%5B13615%5D%5B%5D%5B%3F+%28QUALITY%3C262144%29+%3F%5D&key=T_REC%2CTARPNUM%2CNOAA_ARS%2CCRVAL1%2CCRLN_OBS%2CUSFLUXL%2CMEANGBL%2CR_VALUE%2CTELESCOP%2CRSUN_REF%2CRSUN_OBS%2CDSUN_OBS%2CCDELT1%2CSIZE\n",
      "--- Merged ---\n",
      "Gathering data for HARPNUM 187 and TARPNUM 13622\n",
      "Working on active region 41 out of 51.\n",
      "http://jsoc.stanford.edu/cgi-bin/ajax/jsoc_info?op=rs_list&ds=hmi.sharp_cea_720s%5B187%5D%5B%5D%5B%3F+%28QUALITY%3C65536%29+%3F%5D&key=T_REC%2CINSTRUME%2CNOAA_ARS%2CCRVAL1%2CCRLN_OBS%2CTELESCOP%2CUSFLUX%2CMEANGBZ%2CR_VALUE%2CUSFLUXL%2CMEANGBL%2CRSUN_REF%2CRSUN_OBS%2CDSUN_OBS%2CCDELT1%2CSIZE\n",
      "http://jsoc.stanford.edu/cgi-bin/ajax/jsoc_info?op=rs_list&ds=mdi.smarp_cea_96m%5B13622%5D%5B%5D%5B%3F+%28QUALITY%3C262144%29+%3F%5D&key=T_REC%2CTARPNUM%2CNOAA_ARS%2CCRVAL1%2CCRLN_OBS%2CUSFLUXL%2CMEANGBL%2CR_VALUE%2CTELESCOP%2CRSUN_REF%2CRSUN_OBS%2CDSUN_OBS%2CCDELT1%2CSIZE\n",
      "--- Merged ---\n",
      "Gathering data for HARPNUM 190 and TARPNUM 13625\n",
      "Working on active region 42 out of 51.\n",
      "http://jsoc.stanford.edu/cgi-bin/ajax/jsoc_info?op=rs_list&ds=hmi.sharp_cea_720s%5B190%5D%5B%5D%5B%3F+%28QUALITY%3C65536%29+%3F%5D&key=T_REC%2CINSTRUME%2CNOAA_ARS%2CCRVAL1%2CCRLN_OBS%2CTELESCOP%2CUSFLUX%2CMEANGBZ%2CR_VALUE%2CUSFLUXL%2CMEANGBL%2CRSUN_REF%2CRSUN_OBS%2CDSUN_OBS%2CCDELT1%2CSIZE\n",
      "http://jsoc.stanford.edu/cgi-bin/ajax/jsoc_info?op=rs_list&ds=mdi.smarp_cea_96m%5B13625%5D%5B%5D%5B%3F+%28QUALITY%3C262144%29+%3F%5D&key=T_REC%2CTARPNUM%2CNOAA_ARS%2CCRVAL1%2CCRLN_OBS%2CUSFLUXL%2CMEANGBL%2CR_VALUE%2CTELESCOP%2CRSUN_REF%2CRSUN_OBS%2CDSUN_OBS%2CCDELT1%2CSIZE\n",
      "--- Merged ---\n",
      "Gathering data for HARPNUM 198 and TARPNUM 13637\n",
      "Working on active region 43 out of 51.\n",
      "http://jsoc.stanford.edu/cgi-bin/ajax/jsoc_info?op=rs_list&ds=hmi.sharp_cea_720s%5B198%5D%5B%5D%5B%3F+%28QUALITY%3C65536%29+%3F%5D&key=T_REC%2CINSTRUME%2CNOAA_ARS%2CCRVAL1%2CCRLN_OBS%2CTELESCOP%2CUSFLUX%2CMEANGBZ%2CR_VALUE%2CUSFLUXL%2CMEANGBL%2CRSUN_REF%2CRSUN_OBS%2CDSUN_OBS%2CCDELT1%2CSIZE\n",
      "http://jsoc.stanford.edu/cgi-bin/ajax/jsoc_info?op=rs_list&ds=mdi.smarp_cea_96m%5B13637%5D%5B%5D%5B%3F+%28QUALITY%3C262144%29+%3F%5D&key=T_REC%2CTARPNUM%2CNOAA_ARS%2CCRVAL1%2CCRLN_OBS%2CUSFLUXL%2CMEANGBL%2CR_VALUE%2CTELESCOP%2CRSUN_REF%2CRSUN_OBS%2CDSUN_OBS%2CCDELT1%2CSIZE\n",
      "--- Merged ---\n",
      "Gathering data for HARPNUM 211 and TARPNUM 13643\n",
      "Working on active region 44 out of 51.\n",
      "http://jsoc.stanford.edu/cgi-bin/ajax/jsoc_info?op=rs_list&ds=hmi.sharp_cea_720s%5B211%5D%5B%5D%5B%3F+%28QUALITY%3C65536%29+%3F%5D&key=T_REC%2CINSTRUME%2CNOAA_ARS%2CCRVAL1%2CCRLN_OBS%2CTELESCOP%2CUSFLUX%2CMEANGBZ%2CR_VALUE%2CUSFLUXL%2CMEANGBL%2CRSUN_REF%2CRSUN_OBS%2CDSUN_OBS%2CCDELT1%2CSIZE\n",
      "http://jsoc.stanford.edu/cgi-bin/ajax/jsoc_info?op=rs_list&ds=mdi.smarp_cea_96m%5B13643%5D%5B%5D%5B%3F+%28QUALITY%3C262144%29+%3F%5D&key=T_REC%2CTARPNUM%2CNOAA_ARS%2CCRVAL1%2CCRLN_OBS%2CUSFLUXL%2CMEANGBL%2CR_VALUE%2CTELESCOP%2CRSUN_REF%2CRSUN_OBS%2CDSUN_OBS%2CCDELT1%2CSIZE\n",
      "--- Merged ---\n",
      "Gathering data for HARPNUM 218 and TARPNUM 13650\n",
      "Working on active region 45 out of 51.\n",
      "http://jsoc.stanford.edu/cgi-bin/ajax/jsoc_info?op=rs_list&ds=hmi.sharp_cea_720s%5B218%5D%5B%5D%5B%3F+%28QUALITY%3C65536%29+%3F%5D&key=T_REC%2CINSTRUME%2CNOAA_ARS%2CCRVAL1%2CCRLN_OBS%2CTELESCOP%2CUSFLUX%2CMEANGBZ%2CR_VALUE%2CUSFLUXL%2CMEANGBL%2CRSUN_REF%2CRSUN_OBS%2CDSUN_OBS%2CCDELT1%2CSIZE\n",
      "http://jsoc.stanford.edu/cgi-bin/ajax/jsoc_info?op=rs_list&ds=mdi.smarp_cea_96m%5B13650%5D%5B%5D%5B%3F+%28QUALITY%3C262144%29+%3F%5D&key=T_REC%2CTARPNUM%2CNOAA_ARS%2CCRVAL1%2CCRLN_OBS%2CUSFLUXL%2CMEANGBL%2CR_VALUE%2CTELESCOP%2CRSUN_REF%2CRSUN_OBS%2CDSUN_OBS%2CCDELT1%2CSIZE\n",
      "--- Merged ---\n",
      "Gathering data for HARPNUM 219 and TARPNUM 13652\n",
      "Working on active region 46 out of 51.\n",
      "http://jsoc.stanford.edu/cgi-bin/ajax/jsoc_info?op=rs_list&ds=hmi.sharp_cea_720s%5B219%5D%5B%5D%5B%3F+%28QUALITY%3C65536%29+%3F%5D&key=T_REC%2CINSTRUME%2CNOAA_ARS%2CCRVAL1%2CCRLN_OBS%2CTELESCOP%2CUSFLUX%2CMEANGBZ%2CR_VALUE%2CUSFLUXL%2CMEANGBL%2CRSUN_REF%2CRSUN_OBS%2CDSUN_OBS%2CCDELT1%2CSIZE\n",
      "http://jsoc.stanford.edu/cgi-bin/ajax/jsoc_info?op=rs_list&ds=mdi.smarp_cea_96m%5B13652%5D%5B%5D%5B%3F+%28QUALITY%3C262144%29+%3F%5D&key=T_REC%2CTARPNUM%2CNOAA_ARS%2CCRVAL1%2CCRLN_OBS%2CUSFLUXL%2CMEANGBL%2CR_VALUE%2CTELESCOP%2CRSUN_REF%2CRSUN_OBS%2CDSUN_OBS%2CCDELT1%2CSIZE\n",
      "--- Merged ---\n",
      "Gathering data for HARPNUM 220 and TARPNUM 13653\n",
      "Working on active region 47 out of 51.\n",
      "http://jsoc.stanford.edu/cgi-bin/ajax/jsoc_info?op=rs_list&ds=hmi.sharp_cea_720s%5B220%5D%5B%5D%5B%3F+%28QUALITY%3C65536%29+%3F%5D&key=T_REC%2CINSTRUME%2CNOAA_ARS%2CCRVAL1%2CCRLN_OBS%2CTELESCOP%2CUSFLUX%2CMEANGBZ%2CR_VALUE%2CUSFLUXL%2CMEANGBL%2CRSUN_REF%2CRSUN_OBS%2CDSUN_OBS%2CCDELT1%2CSIZE\n",
      "http://jsoc.stanford.edu/cgi-bin/ajax/jsoc_info?op=rs_list&ds=mdi.smarp_cea_96m%5B13653%5D%5B%5D%5B%3F+%28QUALITY%3C262144%29+%3F%5D&key=T_REC%2CTARPNUM%2CNOAA_ARS%2CCRVAL1%2CCRLN_OBS%2CUSFLUXL%2CMEANGBL%2CR_VALUE%2CTELESCOP%2CRSUN_REF%2CRSUN_OBS%2CDSUN_OBS%2CCDELT1%2CSIZE\n",
      "--- Merged ---\n",
      "Gathering data for HARPNUM 221 and TARPNUM 13656\n",
      "Working on active region 48 out of 51.\n",
      "http://jsoc.stanford.edu/cgi-bin/ajax/jsoc_info?op=rs_list&ds=hmi.sharp_cea_720s%5B221%5D%5B%5D%5B%3F+%28QUALITY%3C65536%29+%3F%5D&key=T_REC%2CINSTRUME%2CNOAA_ARS%2CCRVAL1%2CCRLN_OBS%2CTELESCOP%2CUSFLUX%2CMEANGBZ%2CR_VALUE%2CUSFLUXL%2CMEANGBL%2CRSUN_REF%2CRSUN_OBS%2CDSUN_OBS%2CCDELT1%2CSIZE\n",
      "http://jsoc.stanford.edu/cgi-bin/ajax/jsoc_info?op=rs_list&ds=mdi.smarp_cea_96m%5B13656%5D%5B%5D%5B%3F+%28QUALITY%3C262144%29+%3F%5D&key=T_REC%2CTARPNUM%2CNOAA_ARS%2CCRVAL1%2CCRLN_OBS%2CUSFLUXL%2CMEANGBL%2CR_VALUE%2CTELESCOP%2CRSUN_REF%2CRSUN_OBS%2CDSUN_OBS%2CCDELT1%2CSIZE\n",
      "--- Merged ---\n",
      "Gathering data for HARPNUM 223 and TARPNUM 13661\n",
      "Working on active region 49 out of 51.\n",
      "http://jsoc.stanford.edu/cgi-bin/ajax/jsoc_info?op=rs_list&ds=hmi.sharp_cea_720s%5B223%5D%5B%5D%5B%3F+%28QUALITY%3C65536%29+%3F%5D&key=T_REC%2CINSTRUME%2CNOAA_ARS%2CCRVAL1%2CCRLN_OBS%2CTELESCOP%2CUSFLUX%2CMEANGBZ%2CR_VALUE%2CUSFLUXL%2CMEANGBL%2CRSUN_REF%2CRSUN_OBS%2CDSUN_OBS%2CCDELT1%2CSIZE\n",
      "http://jsoc.stanford.edu/cgi-bin/ajax/jsoc_info?op=rs_list&ds=mdi.smarp_cea_96m%5B13661%5D%5B%5D%5B%3F+%28QUALITY%3C262144%29+%3F%5D&key=T_REC%2CTARPNUM%2CNOAA_ARS%2CCRVAL1%2CCRLN_OBS%2CUSFLUXL%2CMEANGBL%2CR_VALUE%2CTELESCOP%2CRSUN_REF%2CRSUN_OBS%2CDSUN_OBS%2CCDELT1%2CSIZE\n",
      "--- Merged ---\n",
      "Gathering data for HARPNUM 224 and TARPNUM 13657\n",
      "Working on active region 50 out of 51.\n",
      "http://jsoc.stanford.edu/cgi-bin/ajax/jsoc_info?op=rs_list&ds=hmi.sharp_cea_720s%5B224%5D%5B%5D%5B%3F+%28QUALITY%3C65536%29+%3F%5D&key=T_REC%2CINSTRUME%2CNOAA_ARS%2CCRVAL1%2CCRLN_OBS%2CTELESCOP%2CUSFLUX%2CMEANGBZ%2CR_VALUE%2CUSFLUXL%2CMEANGBL%2CRSUN_REF%2CRSUN_OBS%2CDSUN_OBS%2CCDELT1%2CSIZE\n",
      "http://jsoc.stanford.edu/cgi-bin/ajax/jsoc_info?op=rs_list&ds=mdi.smarp_cea_96m%5B13657%5D%5B%5D%5B%3F+%28QUALITY%3C262144%29+%3F%5D&key=T_REC%2CTARPNUM%2CNOAA_ARS%2CCRVAL1%2CCRLN_OBS%2CUSFLUXL%2CMEANGBL%2CR_VALUE%2CTELESCOP%2CRSUN_REF%2CRSUN_OBS%2CDSUN_OBS%2CCDELT1%2CSIZE\n",
      "--- Merged ---\n",
      "Gathering data for HARPNUM 226 and TARPNUM 13658\n",
      "Working on active region 51 out of 51.\n",
      "http://jsoc.stanford.edu/cgi-bin/ajax/jsoc_info?op=rs_list&ds=hmi.sharp_cea_720s%5B226%5D%5B%5D%5B%3F+%28QUALITY%3C65536%29+%3F%5D&key=T_REC%2CINSTRUME%2CNOAA_ARS%2CCRVAL1%2CCRLN_OBS%2CTELESCOP%2CUSFLUX%2CMEANGBZ%2CR_VALUE%2CUSFLUXL%2CMEANGBL%2CRSUN_REF%2CRSUN_OBS%2CDSUN_OBS%2CCDELT1%2CSIZE\n",
      "http://jsoc.stanford.edu/cgi-bin/ajax/jsoc_info?op=rs_list&ds=mdi.smarp_cea_96m%5B13658%5D%5B%5D%5B%3F+%28QUALITY%3C262144%29+%3F%5D&key=T_REC%2CTARPNUM%2CNOAA_ARS%2CCRVAL1%2CCRLN_OBS%2CUSFLUXL%2CMEANGBL%2CR_VALUE%2CTELESCOP%2CRSUN_REF%2CRSUN_OBS%2CDSUN_OBS%2CCDELT1%2CSIZE\n",
      "--- Merged ---\n"
     ]
    }
   ],
   "source": [
    "list_of_dataframes = []\n",
    "\n",
    "for i in range(len(keys)):\n",
    "    HARPNUM = str(keys['HARPNUM'][i])\n",
    "    TARPNUM = str(keys['TARPNUM'][i])\n",
    "    \n",
    "    print('Gathering data for HARPNUM', HARPNUM, 'and TARPNUM', TARPNUM)\n",
    "    print('Working on active region',i+1,'out of 51.')\n",
    "    \n",
    "    # query all records for this harpnum\n",
    "    hmi_query_string = 'hmi.sharp_cea_720s['+HARPNUM+'][][? (QUALITY<65536) ?]'\n",
    "    khmi = c.query(hmi_query_string, key='T_REC,INSTRUME,NOAA_ARS,CRVAL1,CRLN_OBS,TELESCOP,USFLUX,MEANGBZ,R_VALUE,USFLUXL,MEANGBL,RSUN_REF,RSUN_OBS,DSUN_OBS,CDELT1,SIZE')    \n",
    "    \n",
    "    # query all records for this tarpnum\n",
    "    mdi_query_string = 'mdi.smarp_cea_96m['+TARPNUM+'][][? (QUALITY<262144) ?]'\n",
    "    kmdi = c.query(mdi_query_string, key='T_REC,TARPNUM,NOAA_ARS,CRVAL1,CRLN_OBS,USFLUXL,MEANGBL,R_VALUE,TELESCOP,RSUN_REF,RSUN_OBS,DSUN_OBS,CDELT1,SIZE')\n",
    "        \n",
    "    # merge SHARP and SMARP dataframes and only keep records with common T_RECs\n",
    "    df = pd.merge(khmi, kmdi, on='T_REC', suffixes=('_HMI', '_MDI'))\n",
    "    \n",
    "    # drop rows with nans\n",
    "    df = pd.DataFrame.dropna(df).reset_index(drop=True)\n",
    "    \n",
    "    # calculate the stonyhurst latitude: CRVAL1 - CRLN_OBS\n",
    "    # and add it as another column\n",
    "    stonyhurst_latitude = pd.Series(np.absolute(df['CRVAL1_HMI'] - df['CRLN_OBS_HMI']), name='stonyhurst_latitude')\n",
    "    df = df.assign(stonyhurst_latitude=stonyhurst_latitude.values)    \n",
    "    \n",
    "    # drop rows with a stonyhurst_latitude value greater than 70\n",
    "    df = df[stonyhurst_latitude < 70].reset_index(drop=True)\n",
    "    \n",
    "    # concatenate with other active region metadata keys\n",
    "    list_of_dataframes.append(df)\n",
    "    \n",
    "    print('--- Merged ---')"
   ]
  },
  {
   "cell_type": "markdown",
   "metadata": {},
   "source": [
    "### Plot distribution of space-weather parameters"
   ]
  },
  {
   "cell_type": "code",
   "execution_count": 20,
   "metadata": {},
   "outputs": [],
   "source": [
    "df2 = pd.concat(list_of_dataframes).reset_index()"
   ]
  },
  {
   "cell_type": "code",
   "execution_count": 21,
   "metadata": {},
   "outputs": [],
   "source": [
    "### Convert MEANGBL from Gauss/pixel to Gauss/Mm\n",
    "cdelt1_arcsec_hmi = np.arctan((df2['RSUN_REF_HMI']*df2['CDELT1_HMI']*radsindeg)/(df2['DSUN_OBS_HMI']))*(1/radsindeg)*(3600.)\n",
    "factor_hmi = (1/cdelt1_arcsec_hmi)*(df2['RSUN_OBS_HMI']/df2['RSUN_REF_HMI'])*(1000000)\n",
    "df2['MEANGBL_HMI_units'] = df2['MEANGBL_HMI']*factor_hmi\n",
    "df2['MEANGBZ_units'] = df2['MEANGBZ']*factor_hmi\n",
    "\n",
    "cdelt1_arcsec_mdi = np.arctan((df2['RSUN_REF_MDI']*df2['CDELT1_MDI']*radsindeg)/(df2['DSUN_OBS_MDI']))*(1/radsindeg)*(3600.)\n",
    "factor_mdi = (1/cdelt1_arcsec_mdi)*(df2['RSUN_OBS_MDI']/df2['RSUN_REF_MDI'])*(1000000)\n",
    "df2['MEANGBL_MDI_units'] = df2['MEANGBL_MDI']*factor_mdi"
   ]
  },
  {
   "cell_type": "code",
   "execution_count": 22,
   "metadata": {},
   "outputs": [],
   "source": [
    "# Create a column full of NaNs to for the HMI vector values of R_VALUE,\n",
    "# since R_VALUE is only calculated on the line-of-sight data\n",
    "\n",
    "df2['CRVAL1_HMI'][:] = np.nan"
   ]
  },
  {
   "cell_type": "code",
   "execution_count": 23,
   "metadata": {},
   "outputs": [],
   "source": [
    "df3 = {\n",
    "    \"log R\\n \\n\": df2['R_VALUE_MDI'].append(df2['R_VALUE_HMI']).append(df2['CRVAL1_HMI']), \n",
    "    \"Mean Gradient of the\\nVertical Field (Gauss Mm$\\mathregular{^{-1}}$)\": df2['MEANGBL_MDI_units'].append(df2['MEANGBL_HMI_units']).append(df2['MEANGBZ_units']),\n",
    "    \"Total Unsigned\\nFlux (Maxwells)\\n \": df2['USFLUXL_MDI'].append(df2['USFLUXL_HMI']).append(df2['USFLUX']),\n",
    "    \"Data Product\": df2['TELESCOP_MDI'].append(df2['INSTRUME']).append(df2['TELESCOP_HMI'])\n",
    "}"
   ]
  },
  {
   "cell_type": "code",
   "execution_count": 24,
   "metadata": {},
   "outputs": [],
   "source": [
    "df4 = pd.concat(df3, axis = 1)"
   ]
  },
  {
   "cell_type": "code",
   "execution_count": 25,
   "metadata": {},
   "outputs": [],
   "source": [
    "df4 = df4.replace(['SOHO'], ['SMARP']);\n",
    "df4 = df4.replace(['HMI_SIDE1'], ['SHARP line-of-sight']);\n",
    "df4 = df4.replace(['SDO/HMI'], ['SHARP vector']);"
   ]
  },
  {
   "cell_type": "code",
   "execution_count": 26,
   "metadata": {},
   "outputs": [
    {
     "data": {
      "image/png": "[encoded data removed]",
      "text/plain": [
       "<Figure size 672.125x540 with 9 Axes>"
      ]
     },
     "metadata": {
      "needs_background": "light"
     },
     "output_type": "display_data"
    }
   ],
   "source": [
    "sns.pairplot(df4, kind='kde', hue='Data Product', corner=True)\n",
    "plt.savefig('Figure3.pdf', dpi=300, bbox_inches='tight')"
   ]
  },
  {
   "cell_type": "code",
   "execution_count": 27,
   "metadata": {},
   "outputs": [
    {
     "name": "stdout",
     "output_type": "stream",
     "text": [
      "Data for this plot include 12861 unique observations.\n",
      "This plot shows three spaceweather keyword values per observation, or 38583 keyword values.\n"
     ]
    }
   ],
   "source": [
    "print('Data for this plot include',len(df4), 'unique observations.')\n",
    "print('This plot shows three spaceweather keyword values per observation, or',len(df4)*3,'keyword values.')"
   ]
  },
  {
   "cell_type": "markdown",
   "metadata": {},
   "source": [
    "### Calculate correlation between variables"
   ]
  },
  {
   "cell_type": "code",
   "execution_count": 28,
   "metadata": {},
   "outputs": [
    {
     "name": "stdout",
     "output_type": "stream",
     "text": [
      "SpearmanrResult(correlation=0.9406958304511538, pvalue=0.0)\n",
      "SpearmanrResult(correlation=0.7896433688047313, pvalue=0.0)\n",
      "SpearmanrResult(correlation=0.8775618734265077, pvalue=0.0)\n"
     ]
    }
   ],
   "source": [
    "# Between the SMARP and SHARP LOS data\n",
    "print(stats.spearmanr(df2['USFLUXL_MDI'], df2['USFLUXL_HMI']))\n",
    "print(stats.spearmanr(df2['MEANGBL_MDI_units'], df2['MEANGBL_HMI_units']))\n",
    "print(stats.spearmanr(df2['R_VALUE_MDI'], df2['R_VALUE_HMI']))"
   ]
  },
  {
   "cell_type": "code",
   "execution_count": 29,
   "metadata": {},
   "outputs": [
    {
     "name": "stdout",
     "output_type": "stream",
     "text": [
      "SpearmanrResult(correlation=0.7971849742357607, pvalue=0.0)\n",
      "SpearmanrResult(correlation=0.36488262845960245, pvalue=3.797517611043668e-135)\n"
     ]
    }
   ],
   "source": [
    "# Between the SMARP and SHARP Vector data\n",
    "print(stats.spearmanr(df2['USFLUXL_MDI'], df2['USFLUX']))\n",
    "print(stats.spearmanr(df2['MEANGBL_MDI_units'], df2['MEANGBZ_units']))"
   ]
  }
 ],
 "metadata": {
  "kernelspec": {
   "display_name": "Python 3",
   "language": "python",
   "name": "python3"
  },
  "language_info": {
   "codemirror_mode": {
    "name": "ipython",
    "version": 3
   },
   "file_extension": ".py",
   "mimetype": "text/x-python",
   "name": "python",
   "nbconvert_exporter": "python",
   "pygments_lexer": "ipython3",
   "version": "3.9.2"
  }
 },
 "nbformat": 4,
 "nbformat_minor": 4
}
