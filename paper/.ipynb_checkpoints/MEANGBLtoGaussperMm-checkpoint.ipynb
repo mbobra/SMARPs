{
 "cells": [
  {
   "cell_type": "markdown",
   "id": "f82f0193-8002-4584-a7cf-67e4cfca2e15",
   "metadata": {},
   "source": [
    "## Testing variation of MEANGBL"
   ]
  },
  {
   "cell_type": "code",
   "execution_count": 44,
   "id": "3daad82f-66a0-4740-a158-952a7e4cb99d",
   "metadata": {},
   "outputs": [],
   "source": [
    "import sunpy.map\n",
    "import scipy.ndimage\n",
    "import numpy as np\n",
    "import math\n",
    "import drms\n",
    "from datetime import datetime as dt_obj\n",
    "import matplotlib.pylab as plt"
   ]
  },
  {
   "cell_type": "code",
   "execution_count": 7,
   "id": "bf5d2325-4794-44dd-98db-a02196b75544",
   "metadata": {},
   "outputs": [],
   "source": [
    "# define some constants\n",
    "radsindeg = np.pi/180.\n",
    "munaught  = 0.0000012566370614"
   ]
  },
  {
   "cell_type": "code",
   "execution_count": 4,
   "id": "f323d7da-d8e8-4731-945e-ae1077d8120d",
   "metadata": {},
   "outputs": [
    {
     "name": "stdout",
     "output_type": "stream",
     "text": [
      "http://jsoc.stanford.edu/cgi-bin/ajax/checkAddress.sh?address=mbobra%2540stanford.edu&checkonly=1\n"
     ]
    }
   ],
   "source": [
    "email = 'mbobra@stanford.edu'\n",
    "c = drms.Client(debug=True, verbose=True, email=email)"
   ]
  },
  {
   "cell_type": "code",
   "execution_count": 13,
   "id": "98ea37e9-6550-4b2c-bdf9-9d09d4bb9019",
   "metadata": {},
   "outputs": [],
   "source": [
    "t_rec = '2010.07.14_12:24:00_TAI'\n",
    "harpnum = '86'\n",
    "tarpnum = '13520'"
   ]
  },
  {
   "cell_type": "code",
   "execution_count": 79,
   "id": "8a1bfd2f-99de-4e8c-9b4b-7eee0c27ab05",
   "metadata": {},
   "outputs": [
    {
     "name": "stdout",
     "output_type": "stream",
     "text": [
      "http://jsoc.stanford.edu/cgi-bin/ajax/jsoc_info?op=rs_list&ds=hmi.sharp_cea_720s%5B86%5D%5B2010.07.14_12%3A24%3A00_TAI%5D%5B%3F+%28QUALITY%3C65536%29+%3F%5D&key=%2A%2AALL%2A%2A\n"
     ]
    }
   ],
   "source": [
    "# Query the data for these T_RECs\n",
    "hmi_query_string    = 'hmi.sharp_cea_720s['+harpnum+']['+t_rec+'][? (QUALITY<65536) ?]'\n",
    "keyhmi             = c.query(hmi_query_string, key=drms.const.all)"
   ]
  },
  {
   "cell_type": "code",
   "execution_count": 80,
   "id": "63d0f0d3-5b9a-43c5-b05b-123242a36dbc",
   "metadata": {},
   "outputs": [],
   "source": [
    "cdelt1_arcsec = (math.atan((keyhmi['RSUN_REF'][0]*keyhmi['CDELT1'][0]*radsindeg)/(keyhmi['DSUN_OBS'][0])))*(1/radsindeg)*(3600.)"
   ]
  },
  {
   "cell_type": "code",
   "execution_count": 81,
   "id": "b0afc91c-482b-46d6-b50a-c896f5232512",
   "metadata": {},
   "outputs": [
    {
     "data": {
      "text/plain": [
       "0.49428262675999274"
      ]
     },
     "execution_count": 81,
     "metadata": {},
     "output_type": "execute_result"
    }
   ],
   "source": [
    "cdelt1_arcsec"
   ]
  },
  {
   "cell_type": "markdown",
   "id": "19b179ff-48e1-4658-8a06-653b44bf7127",
   "metadata": {},
   "source": [
    "Calculate factor to convert MEANGBL from Gauss/pixel to Gauss/Mm"
   ]
  },
  {
   "cell_type": "code",
   "execution_count": 82,
   "id": "94eaed9e-9f0e-4e9f-b83e-a5221b1e04cb",
   "metadata": {},
   "outputs": [],
   "source": [
    "factor = (1/cdelt1_arcsec)*(keyhmi['RSUN_OBS'][0]/keyhmi['RSUN_REF'][0])*(1000000)"
   ]
  },
  {
   "cell_type": "code",
   "execution_count": 83,
   "id": "6b3b2325-b855-49ec-85c4-f19879e2f585",
   "metadata": {},
   "outputs": [
    {
     "data": {
      "text/plain": [
       "2.7440606028364725"
      ]
     },
     "execution_count": 83,
     "metadata": {},
     "output_type": "execute_result"
    }
   ],
   "source": [
    "factor"
   ]
  },
  {
   "cell_type": "markdown",
   "id": "d647453b-e749-4459-a31d-f02a5888ab69",
   "metadata": {},
   "source": [
    "Figure out the max and min values of RSUN_OBS, DSUN_OBS, and CDELT1 over the course of two years:"
   ]
  },
  {
   "cell_type": "code",
   "execution_count": 74,
   "id": "0e46d8bf-3c56-4d4f-b339-55561d65d64a",
   "metadata": {},
   "outputs": [
    {
     "name": "stdout",
     "output_type": "stream",
     "text": [
      "http://jsoc.stanford.edu/cgi-bin/ajax/jsoc_info?op=rs_list&ds=hmi.sharp_cea_720s%5B%5D%5B2019.01.01%2F800d%407h%5D&key=T_REC%2CCDELT1%2CRSUN_OBS%2CDSUN_OBS%2CMEANGBL\n"
     ]
    }
   ],
   "source": [
    "hmi_query_string    = 'hmi.sharp_cea_720s[][2019.01.01/800d@7h]'\n",
    "keyshmi             = c.query(hmi_query_string, key='T_REC,CDELT1,RSUN_OBS,DSUN_OBS,MEANGBL')"
   ]
  },
  {
   "cell_type": "code",
   "execution_count": 57,
   "id": "5a0cba3e-fd89-486c-babc-8def7de7ddeb",
   "metadata": {},
   "outputs": [],
   "source": [
    "def parse_tai_string(tstr,datetime=True):\n",
    "    year   = int(tstr[:4])\n",
    "    month  = int(tstr[5:7])\n",
    "    day    = int(tstr[8:10])\n",
    "    hour   = int(tstr[11:13])\n",
    "    minute = int(tstr[14:16])\n",
    "    if datetime: return dt_obj(year,month,day,hour,minute)\n",
    "    else: return year,month,day,hour,minute"
   ]
  },
  {
   "cell_type": "code",
   "execution_count": 58,
   "id": "c04e8e44-653d-49d4-a708-96059e440d1d",
   "metadata": {},
   "outputs": [],
   "source": [
    "t_rec_hmi = np.array([parse_tai_string(keyshmi.T_REC[i],datetime=True) for i in range(len(keyshmi.T_REC))])"
   ]
  },
  {
   "cell_type": "markdown",
   "id": "10744b94-c7e5-4a5a-8e2f-e88015d5e63c",
   "metadata": {},
   "source": [
    "Plot variation of CDELT1 over time"
   ]
  },
  {
   "cell_type": "code",
   "execution_count": 63,
   "id": "07ecf120-0d9c-4e99-b8ae-7ed47c4de728",
   "metadata": {},
   "outputs": [
    {
     "data": {
      "text/plain": [
       "Text(0.5, 1.0, 'Projected map scale in X direction')"
      ]
     },
     "execution_count": 63,
     "metadata": {},
     "output_type": "execute_result"
    },
    {
     "data": {
      "image/png": "[encoded data removed]",
      "text/plain": [
       "<Figure size 720x360 with 1 Axes>"
      ]
     },
     "metadata": {
      "needs_background": "light"
     },
     "output_type": "display_data"
    }
   ],
   "source": [
    "fig, ax = plt.subplots(figsize=(10,5))\n",
    "ax.plot(t_rec_hmi,keyshmi['CDELT1'])\n",
    "ax.set_xlabel('Date')\n",
    "ax.set_ylabel('CDELT1 [degrees]')\n",
    "ax.xaxis.labelpad=15\n",
    "ax.yaxis.labelpad=15\n",
    "ax.set_ylim([0.0298,0.0302])\n",
    "ax.set_title(\"Projected map scale in X direction\")"
   ]
  },
  {
   "cell_type": "markdown",
   "id": "3d148951-557d-4827-8d36-ea9ef3ebd14f",
   "metadata": {},
   "source": [
    "Plot variation in RSUN_OBS over time (not smooth because overplotting many HARPs, otherwise it would be totally smooth)"
   ]
  },
  {
   "cell_type": "code",
   "execution_count": 64,
   "id": "0b2540a4-22f1-40c6-b04d-c866ba9168ab",
   "metadata": {},
   "outputs": [
    {
     "data": {
      "text/plain": [
       "Text(0.5, 1.0, 'Angular Radius of the Sun over time as observed by SDO')"
      ]
     },
     "execution_count": 64,
     "metadata": {},
     "output_type": "execute_result"
    },
    {
     "data": {
      "image/png": "[encoded data removed]",
      "text/plain": [
       "<Figure size 720x360 with 1 Axes>"
      ]
     },
     "metadata": {
      "needs_background": "light"
     },
     "output_type": "display_data"
    }
   ],
   "source": [
    "fig, ax = plt.subplots(figsize=(10,5))\n",
    "ax.plot(t_rec_hmi,keyshmi['RSUN_OBS'])\n",
    "ax.set_xlabel('Date')\n",
    "ax.set_ylabel('RSUN_OBS [arcsec]')\n",
    "ax.xaxis.labelpad=15\n",
    "ax.yaxis.labelpad=15\n",
    "ax.set_title(\"Angular Radius of the Sun over time as observed by SDO\")"
   ]
  },
  {
   "cell_type": "markdown",
   "id": "7428dae1-5813-45dc-b441-d6ba067b5e32",
   "metadata": {},
   "source": [
    "Plot variation in DSUN_OBS over time (not smooth because overplotting many HARPs, otherwise it would be totally smooth)"
   ]
  },
  {
   "cell_type": "code",
   "execution_count": 51,
   "id": "eec51568-a8ed-4163-9529-bcaf1bcde2e6",
   "metadata": {},
   "outputs": [
    {
     "data": {
      "text/plain": [
       "Text(0.5, 1.0, 'Distance from SDO to Sun')"
      ]
     },
     "execution_count": 51,
     "metadata": {},
     "output_type": "execute_result"
    },
    {
     "data": {
      "image/png": "[encoded data removed]",
      "text/plain": [
       "<Figure size 720x360 with 1 Axes>"
      ]
     },
     "metadata": {
      "needs_background": "light"
     },
     "output_type": "display_data"
    }
   ],
   "source": [
    "fig, ax = plt.subplots(figsize=(10,5))\n",
    "ax.plot(t_rec_hmi,keyshmi['DSUN_OBS'])\n",
    "ax.set_xlabel('Date')\n",
    "ax.set_ylabel('DSUN_OBS [m]')\n",
    "ax.xaxis.labelpad=15\n",
    "ax.yaxis.labelpad=15\n",
    "ax.set_title(\"Distance from SDO to Sun\")"
   ]
  },
  {
   "cell_type": "code",
   "execution_count": 66,
   "id": "8c2f4152-f9c3-4087-8629-b612102a726b",
   "metadata": {},
   "outputs": [],
   "source": [
    "rsun_obs_max = np.nanmax(keyshmi['RSUN_OBS'])\n",
    "rsun_obs_min = np.nanmin(keyshmi['RSUN_OBS'])\n",
    "dsun_obs_max = np.nanmax(keyshmi['DSUN_OBS'])\n",
    "dsun_obs_min = np.nanmin(keyshmi['DSUN_OBS'])\n",
    "cdelt1_max = np.nanmax(keyshmi['CDELT1'])\n",
    "cdelt1_min = np.nanmin(keyshmi['CDELT1'])\n",
    "rsun_ref = 696000000."
   ]
  },
  {
   "cell_type": "markdown",
   "id": "cdfc6b91-3282-4226-9cc9-de241f1a75db",
   "metadata": {},
   "source": [
    "There is no variation in CDELT1"
   ]
  },
  {
   "cell_type": "code",
   "execution_count": 67,
   "id": "ca1420b6-2643-450d-b9b3-5752e4e5af08",
   "metadata": {},
   "outputs": [
    {
     "name": "stdout",
     "output_type": "stream",
     "text": [
      "0.03 0.03\n"
     ]
    }
   ],
   "source": [
    "print(cdelt1_max,cdelt1_min)"
   ]
  },
  {
   "cell_type": "code",
   "execution_count": 69,
   "id": "597d7d35-7fc0-4970-b3d8-0a5c351e58c4",
   "metadata": {},
   "outputs": [],
   "source": [
    "cdelt1 = cdelt1_max"
   ]
  },
  {
   "cell_type": "markdown",
   "id": "9158d340-ce23-48e0-ba51-375ce3d85385",
   "metadata": {},
   "source": [
    "Find the max and min values of cdelt1_arcsec"
   ]
  },
  {
   "cell_type": "code",
   "execution_count": 71,
   "id": "e2316312-1c20-43a0-9131-5ea579ad4cdf",
   "metadata": {},
   "outputs": [
    {
     "name": "stdout",
     "output_type": "stream",
     "text": [
      "0.4940711991758078 0.5111586204871309\n"
     ]
    }
   ],
   "source": [
    "cdelt1_arcsec_max = (math.atan((rsun_ref*cdelt1*radsindeg)/(dsun_obs_max)))*(1/radsindeg)*(3600.)\n",
    "cdelt1_arcsec_min = (math.atan((rsun_ref*cdelt1*radsindeg)/(dsun_obs_min)))*(1/radsindeg)*(3600.)\n",
    "print(cdelt1_arcsec_max)\n",
    "print(cdelt1_arcsec_min)"
   ]
  },
  {
   "cell_type": "markdown",
   "id": "fb652a8b-e94b-45d5-9c1e-f9873f8ec86f",
   "metadata": {},
   "source": [
    "Find the max and min values of factor"
   ]
  },
  {
   "cell_type": "code",
   "execution_count": 73,
   "id": "ab5d22cf-3e04-489e-8fc2-7cd7cb9d0fb7",
   "metadata": {},
   "outputs": [
    {
     "name": "stdout",
     "output_type": "stream",
     "text": [
      "2.8389643165806815\n",
      "2.744061135022291\n",
      "2.6523297376420714\n"
     ]
    }
   ],
   "source": [
    "factor_maxmax = (1/cdelt1_arcsec_max)*(rsun_obs_max/rsun_ref)*(1000000)\n",
    "factor_minmax = (1/cdelt1_arcsec_min)*(rsun_obs_max/rsun_ref)*(1000000)\n",
    "factor_minmin = (1/cdelt1_arcsec_min)*(rsun_obs_min/rsun_ref)*(1000000)\n",
    "print(factor_maxmax)\n",
    "print(factor_minmax)\n",
    "print(factor_minmin)"
   ]
  },
  {
   "cell_type": "code",
   "execution_count": 86,
   "id": "e4af390b-57f5-4729-b197-9a62f5d001d1",
   "metadata": {},
   "outputs": [
    {
     "name": "stdout",
     "output_type": "stream",
     "text": [
      "72.47308107367164\n",
      "67.7086735425268\n"
     ]
    }
   ],
   "source": [
    "print(keyhmi['MEANGBL'][0]*factor_maxmax)\n",
    "print(keyhmi['MEANGBL'][0]*factor_minmin)"
   ]
  },
  {
   "cell_type": "markdown",
   "id": "1aff365e-9d5e-427f-a6f3-9d381f7f351e",
   "metadata": {},
   "source": [
    "Repeat analysis for MDI"
   ]
  },
  {
   "cell_type": "code",
   "execution_count": 95,
   "id": "7c3c2fd1-0f84-4637-a786-b3f3ea6bcac6",
   "metadata": {},
   "outputs": [
    {
     "name": "stdout",
     "output_type": "stream",
     "text": [
      "http://jsoc.stanford.edu/cgi-bin/ajax/jsoc_info?op=rs_list&ds=mdi.smarp_cea_96m%5B13520%5D%5B2010.07.14_12%3A24%3A00_TAI%5D%5B%3F+%28QUALITY%3C262144%29+%3F%5D&key=%2A%2AALL%2A%2A\n",
      "http://jsoc.stanford.edu/cgi-bin/ajax/jsoc_info?op=rs_list&ds=mdi.smarp_cea_96m%5B%5D%5B2009.01.01%2F800d%407h%5D&key=T_REC%2CCDELT1%2CRSUN_OBS%2CDSUN_OBS%2CMEANGBL\n"
     ]
    }
   ],
   "source": [
    "mdi_query_string    = 'mdi.smarp_cea_96m['+tarpnum+']['+t_rec+'][? (QUALITY<262144) ?]'\n",
    "keymdi              = c.query(mdi_query_string, key=drms.const.all)\n",
    "mdi_query_string    = 'mdi.smarp_cea_96m[][2009.01.01/800d@7h]'\n",
    "keysmdi             = c.query(mdi_query_string, key='T_REC,CDELT1,RSUN_OBS,DSUN_OBS,MEANGBL')"
   ]
  },
  {
   "cell_type": "code",
   "execution_count": 96,
   "id": "1830bb16-f48d-4e36-a571-640ce92333ed",
   "metadata": {},
   "outputs": [],
   "source": [
    "rsun_obs_max = np.nanmax(keysmdi['RSUN_OBS'])\n",
    "rsun_obs_min = np.nanmin(keysmdi['RSUN_OBS'])\n",
    "dsun_obs_max = np.nanmax(keysmdi['DSUN_OBS'])\n",
    "dsun_obs_min = np.nanmin(keysmdi['DSUN_OBS'])\n",
    "cdelt1_max = np.nanmax(keysmdi['CDELT1'])\n",
    "cdelt1_min = np.nanmin(keysmdi['CDELT1'])\n",
    "rsun_ref = 696000000.\n",
    "cdelt1_arcsec_max = (math.atan((rsun_ref*cdelt1*radsindeg)/(dsun_obs_max)))*(1/radsindeg)*(3600.)\n",
    "cdelt1_arcsec_min = (math.atan((rsun_ref*cdelt1*radsindeg)/(dsun_obs_min)))*(1/radsindeg)*(3600.)"
   ]
  },
  {
   "cell_type": "code",
   "execution_count": 97,
   "id": "fc155348-7463-45e4-8945-2bf38c3e9f5f",
   "metadata": {},
   "outputs": [
    {
     "name": "stdout",
     "output_type": "stream",
     "text": [
      "147.1917829217586\n",
      "137.51533990752847\n"
     ]
    }
   ],
   "source": [
    "print(keymdi['MEANGBL'][0]*factor_maxmax)\n",
    "print(keymdi['MEANGBL'][0]*factor_minmin)"
   ]
  },
  {
   "cell_type": "code",
   "execution_count": 101,
   "id": "ed01c540-e557-4d5b-97f7-d3f5a4ae1650",
   "metadata": {},
   "outputs": [],
   "source": [
    "aa = keymdi['DSUN_OBS']"
   ]
  },
  {
   "cell_type": "code",
   "execution_count": 100,
   "id": "9d625496-b996-4bf2-87c4-bcad5fc313e4",
   "metadata": {},
   "outputs": [],
   "source": [
    "bb = keymdi['DSUN_OBS']-keymdi['RSUN_REF']"
   ]
  },
  {
   "cell_type": "code",
   "execution_count": 108,
   "id": "a3b02003-af7b-4a39-ab45-0d9cbc09db6f",
   "metadata": {},
   "outputs": [
    {
     "data": {
      "text/plain": [
       "0    0.462759\n",
       "dtype: float64"
      ]
     },
     "execution_count": 108,
     "metadata": {},
     "output_type": "execute_result"
    }
   ],
   "source": [
    "(cc / aa)*100."
   ]
  },
  {
   "cell_type": "code",
   "execution_count": 107,
   "id": "0aeda1f2-b91a-4fa6-9dd3-9be706ed6152",
   "metadata": {},
   "outputs": [],
   "source": [
    "cc = (aa - bb)"
   ]
  },
  {
   "cell_type": "code",
   "execution_count": null,
   "id": "6934ec1d-0255-4cd4-967a-98cf1277407c",
   "metadata": {},
   "outputs": [],
   "source": []
  }
 ],
 "metadata": {
  "kernelspec": {
   "display_name": "Python 3",
   "language": "python",
   "name": "python3"
  },
  "language_info": {
   "codemirror_mode": {
    "name": "ipython",
    "version": 3
   },
   "file_extension": ".py",
   "mimetype": "text/x-python",
   "name": "python",
   "nbconvert_exporter": "python",
   "pygments_lexer": "ipython3",
   "version": "3.9.2"
  }
 },
 "nbformat": 4,
 "nbformat_minor": 5
}
